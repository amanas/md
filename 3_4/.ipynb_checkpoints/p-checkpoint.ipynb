{
 "cells": [
  {
   "cell_type": "markdown",
   "metadata": {},
   "source": [
    "\n",
    "Table of Contents  \n",
    "1  Resumen teórico  \n",
    "1.1  Definición formal  \n",
    "1.2  Funciones kernel  \n",
    "1.3  Outliers  \n",
    "1.4  Preprocesado de datos  \n",
    "1.4.1  Atributos categóricos  \n",
    "1.4.2  Escalado  \n",
    "1.5  Selección del modelo  \n",
    "1.6  Cross-validation  \n",
    "2  Notas a la implementación  \n",
    "3  Análisis del fichero s  \n",
    "3.1  Cargar los ficheros s-train/test  \n",
    "3.2  Seleccionar las 3 clases más frecuentes  \n",
    "3.3  Obtención de un clasificador MVS lineal en el espacio de parámetros  \n",
    "3.4  Realizar una búsqueda similar para núcleos polinómicos de grado 2  \n",
    "3.5  Obtención de un clasificador MVS lineal en el espacio proyectado mediante un núcleo gaussiano  \n",
    "4  Probar distintos tipos de nucleos con un problema no separable linealmente  \n",
    "4.1  Gausianas con escaso solape - separables linealmente  \n",
    "4.2  Gausianas fuertemente solapadas - no separables  \n",
    "4.3  Gausianas separables polinómicamente  \n",
    "5  Utilizar el resto de conjuntos y discutir los resultados  \n",
    "5.1  Conjunto c  \n",
    "5.2  Conjunto p  \n",
    "5.3  Conjunto v  \n",
    "5.4  Conjunto h  \n",
    "5.5  Conjunto z  \n",
    "5.6  Análisis de resultados en los conjuntos c, p, v, h y z  \n",
    "6  Referencias  "
   ]
  }
 ],
 "metadata": {
  "kernelspec": {
   "display_name": "Python 2",
   "language": "python",
   "name": "python2"
  },
  "language_info": {
   "codemirror_mode": {
    "name": "ipython",
    "version": 2
   },
   "file_extension": ".py",
   "mimetype": "text/x-python",
   "name": "python",
   "nbconvert_exporter": "python",
   "pygments_lexer": "ipython2",
   "version": "2.7.13"
  }
 },
 "nbformat": 4,
 "nbformat_minor": 2
}
