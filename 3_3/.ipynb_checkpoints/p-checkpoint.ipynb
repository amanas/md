{
 "cells": [
  {
   "cell_type": "markdown",
   "metadata": {
    "toc": "true"
   },
   "source": [
    "# Table of Contents\n",
    " <p><div class=\"lev1 toc-item\"><a href=\"#Resumen-teórico\" data-toc-modified-id=\"Resumen-teórico-1\"><span class=\"toc-item-num\">1&nbsp;&nbsp;</span>Resumen teórico</a></div><div class=\"lev2 toc-item\"><a href=\"#Definición-formal\" data-toc-modified-id=\"Definición-formal-11\"><span class=\"toc-item-num\">1.1&nbsp;&nbsp;</span>Definición formal</a></div><div class=\"lev2 toc-item\"><a href=\"#Funciones-kernel\" data-toc-modified-id=\"Funciones-kernel-12\"><span class=\"toc-item-num\">1.2&nbsp;&nbsp;</span>Funciones kernel</a></div><div class=\"lev2 toc-item\"><a href=\"#Outliers\" data-toc-modified-id=\"Outliers-13\"><span class=\"toc-item-num\">1.3&nbsp;&nbsp;</span>Outliers</a></div><div class=\"lev2 toc-item\"><a href=\"#Preprocesado-de-datos\" data-toc-modified-id=\"Preprocesado-de-datos-14\"><span class=\"toc-item-num\">1.4&nbsp;&nbsp;</span>Preprocesado de datos</a></div><div class=\"lev3 toc-item\"><a href=\"#Atributos-categóricos\" data-toc-modified-id=\"Atributos-categóricos-141\"><span class=\"toc-item-num\">1.4.1&nbsp;&nbsp;</span>Atributos categóricos</a></div><div class=\"lev3 toc-item\"><a href=\"#Escalado\" data-toc-modified-id=\"Escalado-142\"><span class=\"toc-item-num\">1.4.2&nbsp;&nbsp;</span>Escalado</a></div><div class=\"lev2 toc-item\"><a href=\"#Selección-del-modelo\" data-toc-modified-id=\"Selección-del-modelo-15\"><span class=\"toc-item-num\">1.5&nbsp;&nbsp;</span>Selección del modelo</a></div><div class=\"lev2 toc-item\"><a href=\"#Cross-validation\" data-toc-modified-id=\"Cross-validation-16\"><span class=\"toc-item-num\">1.6&nbsp;&nbsp;</span>Cross-validation</a></div><div class=\"lev1 toc-item\"><a href=\"#Notas-a-la-implementación\" data-toc-modified-id=\"Notas-a-la-implementación-2\"><span class=\"toc-item-num\">2&nbsp;&nbsp;</span>Notas a la implementación</a></div><div class=\"lev1 toc-item\"><a href=\"#Análisis-del-fichero-S\" data-toc-modified-id=\"Análisis-del-fichero-S-3\"><span class=\"toc-item-num\">3&nbsp;&nbsp;</span>Análisis del fichero S</a></div><div class=\"lev2 toc-item\"><a href=\"#Cargar-los-ficheros-s-train/test\" data-toc-modified-id=\"Cargar-los-ficheros-s-train/test-31\"><span class=\"toc-item-num\">3.1&nbsp;&nbsp;</span>Cargar los ficheros s-train/test</a></div><div class=\"lev2 toc-item\"><a href=\"#Seleccionar-las-3-clases-más-frecuentes\" data-toc-modified-id=\"Seleccionar-las-3-clases-más-frecuentes-32\"><span class=\"toc-item-num\">3.2&nbsp;&nbsp;</span>Seleccionar las 3 clases más frecuentes</a></div><div class=\"lev2 toc-item\"><a href=\"#Obtención-de-un-clasificador-MVS-lineal-en-el-espacio-de-parámetros\" data-toc-modified-id=\"Obtención-de-un-clasificador-MVS-lineal-en-el-espacio-de-parámetros-33\"><span class=\"toc-item-num\">3.3&nbsp;&nbsp;</span>Obtención de un clasificador MVS lineal en el espacio de parámetros</a></div><div class=\"lev2 toc-item\"><a href=\"#Realizar-una-búsqueda-similar-para-núcleos-polinómicos-de-grado-2\" data-toc-modified-id=\"Realizar-una-búsqueda-similar-para-núcleos-polinómicos-de-grado-2-34\"><span class=\"toc-item-num\">3.4&nbsp;&nbsp;</span>Realizar una búsqueda similar para núcleos polinómicos de grado 2</a></div><div class=\"lev2 toc-item\"><a href=\"#Obtención-de-un-clasificador-MVS-lineal-en-el-espacio-proyectado-mediante-un-núcleo-gaussiano\" data-toc-modified-id=\"Obtención-de-un-clasificador-MVS-lineal-en-el-espacio-proyectado-mediante-un-núcleo-gaussiano-35\"><span class=\"toc-item-num\">3.5&nbsp;&nbsp;</span>Obtención de un clasificador MVS lineal en el espacio proyectado mediante un núcleo gaussiano</a></div><div class=\"lev1 toc-item\"><a href=\"#Probar-distintos-tipos-de-nucleos-con-un-problema-no-separable-linealmente\" data-toc-modified-id=\"Probar-distintos-tipos-de-nucleos-con-un-problema-no-separable-linealmente-4\"><span class=\"toc-item-num\">4&nbsp;&nbsp;</span>Probar distintos tipos de nucleos con un problema no separable linealmente</a></div><div class=\"lev2 toc-item\"><a href=\"#Ejemplo-no-separable-linealmente-pero-sí-polinómicamente\" data-toc-modified-id=\"Ejemplo-no-separable-linealmente-pero-sí-polinómicamente-41\"><span class=\"toc-item-num\">4.1&nbsp;&nbsp;</span>Ejemplo no separable linealmente pero sí polinómicamente</a></div><div class=\"lev2 toc-item\"><a href=\"#Gausianas-con-escaso-solape---separables-linealmente\" data-toc-modified-id=\"Gausianas-con-escaso-solape---separables-linealmente-42\"><span class=\"toc-item-num\">4.2&nbsp;&nbsp;</span>Gausianas con escaso solape - separables linealmente</a></div><div class=\"lev2 toc-item\"><a href=\"#Gausianas-fuertemente-solapadas---no-separables\" data-toc-modified-id=\"Gausianas-fuertemente-solapadas---no-separables-43\"><span class=\"toc-item-num\">4.3&nbsp;&nbsp;</span>Gausianas fuertemente solapadas - no separables</a></div><div class=\"lev2 toc-item\"><a href=\"#Gausianas-separable-polinómicamente\" data-toc-modified-id=\"Gausianas-separable-polinómicamente-44\"><span class=\"toc-item-num\">4.4&nbsp;&nbsp;</span>Gausianas separable polinómicamente</a></div><div class=\"lev1 toc-item\"><a href=\"#Utilizar-el-resto-de-conjuntos-y-discutir-los-resultados\" data-toc-modified-id=\"Utilizar-el-resto-de-conjuntos-y-discutir-los-resultados-5\"><span class=\"toc-item-num\">5&nbsp;&nbsp;</span>Utilizar el resto de conjuntos y discutir los resultados</a></div><div class=\"lev1 toc-item\"><a href=\"#Referencias\" data-toc-modified-id=\"Referencias-6\"><span class=\"toc-item-num\">6&nbsp;&nbsp;</span>Referencias</a></div>"
   ]
  },
  {
   "cell_type": "markdown",
   "metadata": {},
   "source": [
    "# Resumen teórico\n",
    "\n",
    "Las máquinas de soporte vectorial son un tipo de algoritmos utilizados principalmente para clasificación y para regresión desarollados por Vladimir Vapnik y su equipo [1].\n",
    "\n",
    "Las máquinas de soporte vectorial funcionan generando un hiperplano que separa el espacio de muestras de forma que, idealmente, patrones de diferentes clases nunca aparezcan en el mismo lado del plano. Como existen infinitos hiperplanos que separen el espacio, se busca aquel cuya distancia entre el hiperplano y los patrones de cada clase sea la máxima posible (ver Figura 1). A los puntos que conforman las dos líneas paralelas al hiperplano, siendo la distancia entre ellas (margen) la mayor posible, se les denomina vectores de soporte. En la fase de entrenamiento de las máquinas de soporte vectorial, nos centraremos en hallar los vectores de soporte empleando técnicas de programación cuadrática [3].\n",
    "\n",
    "Una vez obtenemos el hiperplano podemos utilizar la Máquina en problemas de clasificación, escogiendo patrones que no hayan sido vistos durante la fase de entrenamiento, y aplicando una etiqueta (clase) en función del lado del hiperplano en el que se proyecten.\n",
    "\n",
    "![Figura 1: Ejemplo de 2 dimensiones para una máquina de soporte vectorial, obsérvese que la recta roja es la que maximiza la distancia entre los vectores de soporte (los puntos en amarillo)](esquema-basico-svm.PNG)\n",
    "\n",
    "\n",
    "Los universos a estudiar no se suelen presentar en casos idílicos de dos dimensiones como en el ejemplo anterior, sino que un algoritmo SVM debe tratar con:\n",
    "\n",
    "- Más de dos variables predictoras\n",
    "- Curvas no lineales de separación\n",
    "- Casos donde los conjuntos de datos no pueden ser completamente separados\n",
    "- Clasificaciones en más de dos categorías\n",
    "\n",
    "![Figura 2: Espacio de 2 dimensiones en el que los patrones no son separables linealmente](no-separable-linealmente.PNG)\n",
    "\n",
    "\n",
    "## Definición formal\n",
    "\n",
    "> Dado un conjunto de entrenamiento formado por pares de instancias y etiquetas\n",
    "$$(x_i,y_i),  i=1, . . . , l \\text{ donde } x_i \\in R^n, y \\in \\{1, −1\\}^l$$\n",
    ", las SVMs pueden entenderse como la solución al siguiente problema de optimización::\n",
    "$$\n",
    "\\begin{aligned}\n",
    "\\underset{w,b,\\epsilon}{\\operatorname{argmin}} & & \\frac{1}{2}w^Tw + C\n",
    "\\sum_1^l{\\epsilon_i} \\\\\n",
    "\\text{sujeto a} & & y_i(w^T \\phi(x_i) + b) \\ge 1- \\epsilon_i \\\\\n",
    " & & \\epsilon_i \\ge 0\n",
    "\\end{aligned}\n",
    "$$\n",
    "Además, \n",
    "$$K(x_i, x_j ) ≡ \\phi(x_i)^T \\phi(x_j)$$\n",
    "es llamada la función kernel.\n",
    "\n",
    "*Figura 3. Definición formal de las SVMs según [4]*\n",
    "\n",
    "Los vectores de entrenamiento $x_i$ son asignados a un espacio de mayor dimensiones (incluso infinitas) por la función $\\phi$. La máquina de soporte vectorial encuentra el hiperplano con máximo margen de separación en el espacio dimensional superior. C > 0 es el parámetro de penalización del término de error.\n",
    "\n",
    "## Funciones kernel\n",
    "\n",
    "Cuando el espacio donde trabajamos no permite separar linealmente los patrones de forma perfecta, como se puede observar en la figura 2, es imposible trazar un hiperplano que separe perfectamente los patrones. \n",
    "\n",
    "Por ello entran en juego las llamadas **funciones kernel**, funciones matemáticas que nos permiten proyectar los patrones en un espacio de mayor dimensión que el original dónde estos si son linealmente separables mediante un hiperplano (Figura 3). \n",
    "\n",
    "![Figura 4: Kernel de 2 a 3 dimensiones dónde los patrones pueden ser perfectamente separados mediante un hiperplano](ejemplo-kernel.PNG)\n",
    "\n",
    "\n",
    "De nuevo, y como en la gran mayoría de algoritmos de aprendizaje máquina, **si elegimos un modelo (en este caso una función kernel) que se ajuste demasiado bien a los patrones de entrenamiento**, el clasificador perderá capacidad de generalización por lo que tendrá un mal comportamiento ante nuevos patrones y se hablará de **sobreentrenamiento**.\n",
    "\n",
    "Las funciones kernel más comunmente utilizadas son:\n",
    "\n",
    "- **lineales**: $ K(x_i,x_j) = x_i^T x_j $\n",
    "- **polinómicas**: $ K(x_i,x_j) = (\\gamma x_i^T x_j +r)^d, \\gamma \\ge 0 $\n",
    "- **funciones de base radial (RBF)**: $ K(x_i,x_j) = exp(-\\gamma \\lvert x_i - x_j \\lvert ^2), \\gamma \\ge 0$\n",
    "- **sigmoide**: $ K(x_i,x_j) = \\tanh(\\gamma x_i^T x_j +r) $\n",
    "\n",
    "\n",
    "## Outliers\n",
    "\n",
    "No siempre es posible encontrar una transformación de los datos que permita separarlos linealmente [2] o incluso a veces, no es conveniente.\n",
    "\n",
    "En este caso nos encontramos con instancias en el conjunto de entrenamiento que se situan en lugares del espacio muy separados o aislados de la zona dónde se sitúan la mayoría de instancias de entrenamiento con las que comparten la clase.\n",
    "\n",
    "La presencia de ruido o de **outliers** pueden llegar tambien a provocar soluciones sobreajustadas a los patrones de entrenamiento que no generalizan bien. Para tratar con estas situaciones se crearon los llamados **SVM de margen blando** cuya idea principal es introducir una holgura al margen existente entre los vectores de soporte y el hiperplano que permite que las restricciones no se cumplan de manera estricta. \n",
    "\n",
    "Se introduce por tanto en el proceso de entrenamiento una constante **C** que controlará el tamaño de la holgura.\n",
    "\n",
    "**El parámetro C le indica a la SVM, en el proceso de entrenamiento, el grado de ejemplos mal clasificados permitido.** \n",
    "\n",
    "Para valores grandes de C, la optimización elegirá un hiperplano de margen más pequeño si ese hiperplano hace un mejor trabajo para conseguir que todos los puntos de entrenamiento estén clasificados correctamente. Es decir, se evitan en mayor medida ejemplos mal clasificados aunque ello conduzca a hiperplanos de margen menor.\n",
    "\n",
    "Por el contrario, un valor muy pequeño de C hará que el optimizador busque un hiperplano de separación de mayor margen, incluso si ese hiperplano clasifica erróneamente más puntos. Para valores muy pequeños de C frecuentemente se obtienen ejemplos mal clasificados,  incluso si los datos de entrenamiento son linealmente separables. Sin embargo, el sobreajuste del clasificador es menor y generalmente se obtienen clasificadores que generalizan mejor.\n",
    "\n",
    "## Preprocesado de datos\n",
    "\n",
    "Se suele realizar a dos niveles [4]:\n",
    "\n",
    "### Atributos categóricos\n",
    "\n",
    "Las SVMs requieren que cada instancia de datos se represente como un vector de números reales. Por lo tanto, si hay atributos categóricos, primero tenemos que convertirlos en datos numéricos. Se recomienda utilizar m números para representar un atributo con m categorías. Solamente uno de los m números es uno, y los otros son cero. Por ejemplo, una categoría de tres atributos como {rojo, verde, azul} puede representarse como (0,0,1), (0,1,0) y (1,0,0).\n",
    "\n",
    "La experiencia indica que si el número de valores en un atributo no es demasiado grande, esta codificación puede ser más estable que usar un solo número.\n",
    "\n",
    "### Escalado\n",
    "\n",
    "Escalar los datos antes de aplicar las SVMs es muy importante. La mayoría de las consideraciones hechas para redes neuronales también se aplican a las SVMs. \n",
    "\n",
    "La principal ventaja de escalar es evitar que atributos cuyos valores se mueven en rangos numéricos altos dominen a aquellos que se mueven en rangos numéricos más pequeños. Otra ventaja es evitar dificultades numéricas durante el cálculo, dado que los valores del kernel normalmente dependen de los productos internos de vectores de características, p. \n",
    "\n",
    "Se recomienda un escalado lineal de cada atributo al rango [-1, +1] o [0, 1]. Por supuesto, hay usar el mismo método para escalar el los datos de entrenamiento y los de prueba.\n",
    "\n",
    "## Selección del modelo\n",
    "\n",
    "Aunque sólo son cuatro las funciones kernel más comunes, se debe decidir una para entrenar la SVM. Una vez elegido el núcleo, se ajustan los parámetros de penalización C y los parámetros propios del kernel elegido.\n",
    "\n",
    "**Según [4], en general, el núcleo RBF es una primera opción razonable.** \n",
    "\n",
    "Este kernel no correlaciona las muestras en un espacio dimensional superior, a diferencia del núcleo lineal, con lo que se puede manejar el caso cuando la relación entre las etiquetas y los atributos no es lineal. Además, el núcleo lineal es un caso especial de RBF.\n",
    "\n",
    "La segunda razón es el número de hiperparámetros que influyen en la complejidad de la selección del modelo. El núcleo polinomial tiene más hiperparametros que el núcleo RBF.\n",
    "\n",
    "Por último, el núcleo RBF tiene menos dificultades numéricas ya que el resultado  de aplicar la función kernel es siempre menor que 1.\n",
    "\n",
    "Hay algunas situaciones en las que el núcleo RBF no es adecuado. En particular, cuando el número de características es muy grande, se puede utilizar el núcleo lineal.\n",
    "\n",
    "## Cross-validation\n",
    "\n",
    "Aprender los parámetros de un modelo y probarlo en los mismos datos es un error metodológico: un modelo que simplemente repitiera las etiquetas de las muestras que acaba de ver tendría una puntuación perfecta pero no podría predecir nada útil en otros datos no vistos. Esta situación se conoce como **sobreajuste**. Para evitarlo, es una práctica común cuando se realiza un experimento de aprendizaje (supervisado) mantener una parte de los datos disponibles como un conjunto de pruebas.\n",
    "\n",
    "Cuando se evalúan diferentes parámetros (\"hiperparámetros\") para los estimadores, como el ajuste **C** que debe configurarse manualmente para un SVM, todavía existe el riesgo de sobreajuste en el conjunto de prueba porque los parámetros pueden ajustarse hasta que el estimador se ejecute óptimamente. De esta forma, el conocimiento sobre el conjunto de pruebas puede **\"filtrarse\"** en el modelo y las métricas de evaluación ya no informan sobre el rendimiento de la generalización. \n",
    "\n",
    "Para resolver este problema, otra parte del conjunto de datos puede ser presentada como un **\"conjunto de validación\"**: el entrenamiento continúa en el conjunto de entrenamiento, después de lo cual se realiza una evaluación en el conjunto de validación y cuando el experimento parece ser exitoso, la evaluación final se puede hacer en el conjunto de pruebas.\n",
    "\n",
    "Sin embargo, al dividir los datos disponibles en tres conjuntos, reducimos drásticamente el número de muestras que se pueden utilizar para aprender el modelo, y los resultados pueden depender de una elección aleatoria particular para el par de conjuntos (entrenamiento, validación).\n",
    "\n",
    "Una solución a este problema es un procedimiento llamado **validación cruzada** (CV para abreviar). Un conjunto de prueba todavía es necesario para la evaluación final, pero el conjunto de validación ya no es necesario al hacer CV. En el enfoque básico, llamado **k-fold CV**, el conjunto de entrenamiento se divide en k conjuntos más pequeños. Se sigue el siguiente procedimiento para cada uno de los k \"pliegues\", en bucle:\n",
    "\n",
    "- El modelo es entrenado usando k-1 de los pliegues como datos de entrenamiento\n",
    "- El modelo resultante se valida en la parte restante de los datos \n",
    "\n",
    "La medida de rendimiento reportada por la validación cruzada k-fold es el promedio de los valores calculados en el bucle. Este enfoque puede ser costoso desde el punto de vista computacional, pero no desperdicia demasiados datos (como ocurre cuando se fija un conjunto de pruebas arbitrario), lo cual es una ventaja importante.\n",
    "\n",
    "\n",
    "# Notas a la implementación\n",
    "\n",
    "En el enunciado de la práctica se hace mención explícita a WEKA y a Torch.\n",
    "\n",
    "Sin embargo, entiendo que el lenguaje o la herramienta con la que resuelvan las prácticas es libre y las referencias a WEKA es simplemente por tener una herramienta por defecto para quien no tenga otras preferencias.\n",
    "\n",
    "En este sentido, y espero no estar cometiendo un error, me tomo la libertad de desarrollar esta práctica con python utilizando scikit-learn como librería de machine-learning.\n",
    "\n",
    "# Análisis del fichero S\n",
    "\n",
    "## Cargar los ficheros s-train/test"
   ]
  },
  {
   "cell_type": "code",
   "execution_count": 1,
   "metadata": {
    "collapsed": false,
    "scrolled": false
   },
   "outputs": [],
   "source": [
    "from scipy.io.arff import loadarff\n",
    "\n",
    "S_train,S_meta = loadarff('svm-data/s-train.arff')\n",
    "S_test,_       = loadarff('svm-data/s-test.arff')"
   ]
  },
  {
   "cell_type": "markdown",
   "metadata": {},
   "source": [
    "## Seleccionar las 3 clases más frecuentes"
   ]
  },
  {
   "cell_type": "code",
   "execution_count": 2,
   "metadata": {
    "collapsed": false,
    "scrolled": false
   },
   "outputs": [
    {
     "name": "stdout",
     "output_type": "stream",
     "text": [
      "Top 3 classes: ['46', '20', '110']\n"
     ]
    }
   ],
   "source": [
    "import numpy as np\n",
    "\n",
    "classes = np.concatenate((S_train['class'],S_test['class']))\n",
    "class_counts = dict(zip(*np.unique(classes,return_counts=True)))\n",
    "top_three = sorted(class_counts, key=class_counts.get, reverse=True)[0:3]\n",
    "\n",
    "print 'Top 3 classes: %s' % top_three\n",
    "\n",
    "S_top3_train = S_train[np.in1d(S_train['class'], top_three)]\n",
    "S_top3_test  = S_test[np.in1d(S_test['class'], top_three)]"
   ]
  },
  {
   "cell_type": "markdown",
   "metadata": {},
   "source": [
    "## Obtención de un clasificador MVS lineal en el espacio de parámetros\n",
    "\n",
    "Vamos a realizar una búsqueda en el espacio de parámetros para seleccionar el que produce mejores resultados\n",
    "evaluados mediante validación cruzada. \n",
    "\n",
    "Según las indicacione de la práctica, probaremos unos 20 valores de **C entre 0.001 y 10**. Pero en lugar de utilizarlos equiespaciados en escala lineal, creo que será más productivo (ofrecerá mejor ámbito exploratorio) si los **equiespaciamos en escala logarítmica**."
   ]
  },
  {
   "cell_type": "code",
   "execution_count": 20,
   "metadata": {
    "collapsed": false
   },
   "outputs": [
    {
     "name": "stdout",
     "output_type": "stream",
     "text": [
      "Cs: [  1.00000000e-03   1.62377674e-03   2.63665090e-03   4.28133240e-03\n",
      "   6.95192796e-03   1.12883789e-02   1.83298071e-02   2.97635144e-02\n",
      "   4.83293024e-02   7.84759970e-02   1.27427499e-01   2.06913808e-01\n",
      "   3.35981829e-01   5.45559478e-01   8.85866790e-01   1.43844989e+00\n",
      "   2.33572147e+00   3.79269019e+00   6.15848211e+00   1.00000000e+01]\n"
     ]
    }
   ],
   "source": [
    "from sklearn.model_selection import GridSearchCV\n",
    "\n",
    "N = 20\n",
    "Cs = np.logspace(-3, 1, N)\n",
    "print 'Cs: %s' % Cs"
   ]
  },
  {
   "cell_type": "markdown",
   "metadata": {},
   "source": [
    "Vamos a utilizar además una búsqueda exhaustiva en el conjunto de Cs anterior con la clase **GridSearchCV**. \n",
    "\n",
    "**Esta función realiza automáticamente el entrenamiento con cross-validation.** Por defecto utiliza 3 folds, y por defecto lo dejo.\n",
    "\n",
    "Después, obtendremos la información que necesitamos simplemente llamando a los miembros:\n",
    "\n",
    "- **best\\_estimator\\_** : el modelo que ofreció los mejores resultados de todos los probados\n",
    "- **best\\_score\\_** : la puntuación del mejor modelo indicado en el punto anterior"
   ]
  },
  {
   "cell_type": "code",
   "execution_count": 15,
   "metadata": {
    "collapsed": false
   },
   "outputs": [
    {
     "name": "stdout",
     "output_type": "stream",
     "text": [
      "Mejor C: 0.001\n",
      "Puntuación del mejor modelo: 0.753424657534\n"
     ]
    }
   ],
   "source": [
    "from sklearn import svm\n",
    "from sklearn.model_selection import GridSearchCV\n",
    "\n",
    "X_train = S_top3_train[S_meta.names()[:-1]].reshape(-1, 1)\n",
    "y_train = S_top3_train['class']\n",
    "\n",
    "gscv = GridSearchCV(estimator=svm.SVC(kernel='linear'), \n",
    "                   param_grid=dict(C=Cs), n_jobs=-1)\n",
    "gscv.fit(X_train, y_train)\n",
    "\n",
    "print 'Mejor C: %s' % gscv.best_estimator_.C\n",
    "print 'Puntuación del mejor modelo: %s' % gscv.best_score_"
   ]
  },
  {
   "cell_type": "markdown",
   "metadata": {},
   "source": [
    "Como el mejor C enontrado se corresponde con el extremo izquierdo de los probados en nuestro **grid**, vamos a aumentar el intervalo de prueba por la izquierda:"
   ]
  },
  {
   "cell_type": "code",
   "execution_count": 28,
   "metadata": {
    "collapsed": false
   },
   "outputs": [
    {
     "name": "stdout",
     "output_type": "stream",
     "text": [
      "Mejor C: 8.8586679041e-05\n",
      "Puntuación del mejor modelo: 0.753424657534\n"
     ]
    }
   ],
   "source": [
    "Cs = np.logspace(-5, 1, N)\n",
    "gscv = GridSearchCV(estimator=svm.SVC(kernel='linear'), \n",
    "                   param_grid=dict(C=Cs), n_jobs=-1)\n",
    "gscv.fit(X_train, y_train)\n",
    "print 'Mejor C: %s' % gscv.best_estimator_.C\n",
    "print 'Puntuación del mejor modelo: %s' % gscv.best_score_"
   ]
  },
  {
   "cell_type": "markdown",
   "metadata": {},
   "source": [
    "Tomamos entonces como mejor valor **C = 8.8586679041e-05**.\n",
    "\n",
    "**Como la mejor máquina ofrece unos resultados de clasificación en torno al 0.75%, podemos sospechar que el problema sí es linealmente separable.** Además, vemos que el mejor resultado es una máquina de margen muy blando.\n",
    "\n",
    "Podemos evaluar entonces la mejor SVM encontrada en nuestro conjunto de prueba:"
   ]
  },
  {
   "cell_type": "code",
   "execution_count": 26,
   "metadata": {
    "collapsed": false
   },
   "outputs": [
    {
     "name": "stdout",
     "output_type": "stream",
     "text": [
      "Puntuación en el conjunto de prueba: 0.680672268908\n"
     ]
    }
   ],
   "source": [
    "X_test = S_top3_test[S_meta.names()[:-1]].reshape(-1, 1)\n",
    "y_test = S_top3_test['class']\n",
    "\n",
    "print 'Puntuación en el conjunto de prueba: %s' % gscv.best_estimator_.score(X_test, y_test)"
   ]
  },
  {
   "cell_type": "markdown",
   "metadata": {},
   "source": [
    "Por desgracia, en la evaluación de los datos de prueba el rendimiento se degrada un poco. Sin embargo, dado que el valor de C es muy bajo, no es de suponer se haya producido sobreajuste en el entrenamiento. "
   ]
  },
  {
   "cell_type": "markdown",
   "metadata": {},
   "source": [
    "## Realizar una búsqueda similar para núcleos polinómicos de grado 2\n",
    "\n",
    "Procedemos de forma similar al punto anterior, pero en este caso utilizando una función kernel de tipo polinómica."
   ]
  },
  {
   "cell_type": "code",
   "execution_count": 27,
   "metadata": {
    "collapsed": false
   },
   "outputs": [
    {
     "name": "stdout",
     "output_type": "stream",
     "text": [
      "Mejor C: 1e-05\n",
      "Puntuación del mejor modelo: 0.72602739726\n",
      "Puntuación en el conjunto de prueba: 0.663865546218\n"
     ]
    }
   ],
   "source": [
    "gscv = GridSearchCV(estimator=svm.SVC(kernel='poly', degree=2), \n",
    "                   param_grid=dict(C=Cs), n_jobs=-1)\n",
    "gscv.fit(X_train, y_train)\n",
    "print 'Mejor C: %s' % gscv.best_estimator_.C\n",
    "print 'Puntuación del mejor modelo: %s' % gscv.best_score_\n",
    "print 'Puntuación en el conjunto de prueba: %s' % gscv.best_estimator_.score(X_test, y_test)"
   ]
  },
  {
   "cell_type": "markdown",
   "metadata": {},
   "source": [
    "Vemos que el mejor resultado no mejora a los resultado obtenidos con un kernel lineal. Otro motivo para sospechar que los datos si pueden tener cierto carácter de linealmente separables.\n",
    "\n",
    "## Obtención de un clasificador MVS lineal en el espacio proyectado mediante un núcleo gaussiano\n",
    "\n",
    "Repetimos los pasos del apartado anterior incluyendo en la ventana de parámetros explorados dos entradas, una para el parámetro C y otra para G (gamma) del núcleo gaussiano o de base radial. Disminuyo N a 10, es decir, 100 combinaciones en total."
   ]
  },
  {
   "cell_type": "code",
   "execution_count": 33,
   "metadata": {
    "collapsed": false
   },
   "outputs": [
    {
     "name": "stdout",
     "output_type": "stream",
     "text": [
      "Mejor C: 0.0784759970351\n",
      "Puntuación del mejor modelo: 0.753424657534\n",
      "Puntuación en el conjunto de prueba: 0.663865546218\n"
     ]
    }
   ],
   "source": [
    "N = 20\n",
    "Cs = np.logspace(-3, 1, N)\n",
    "Gs = np.logspace(-15, 3, N, base=2)\n",
    "gscv = GridSearchCV(estimator=svm.SVC(kernel='rbf'), \n",
    "                    param_grid=dict(C=Cs, gamma=Gs), n_jobs=-1)\n",
    "gscv.fit(X_train, y_train)\n",
    "print 'Mejor C: %s' % gscv.best_estimator_.C\n",
    "print 'Puntuación del mejor modelo: %s' % gscv.best_score_\n",
    "print 'Puntuación en el conjunto de prueba: %s' % gscv.best_estimator_.score(X_test, y_test)"
   ]
  },
  {
   "cell_type": "markdown",
   "metadata": {},
   "source": [
    "Observamos que los mejores resultados se encuentran con valores de gamma muy pequeños, aunque no mejoran los que se encontraron en el caso del núcleo lineal. **Esto puede ser otro síntoma de que los datos sí son linealmente separables.**"
   ]
  },
  {
   "cell_type": "markdown",
   "metadata": {},
   "source": [
    "# Probar distintos tipos de nucleos con un problema no separable linealmente\n",
    "\n",
    "## Ejemplo no separable linealmente pero sí polinómicamente\n",
    "\n",
    "Genero un conjunto de entrenamiento con dos atributos, no separable linealmente."
   ]
  },
  {
   "cell_type": "code",
   "execution_count": 243,
   "metadata": {
    "collapsed": false,
    "scrolled": false
   },
   "outputs": [],
   "source": [
    "data = np.array([[x,y,x*y < 0] \n",
    "                 for x,y in np.random.normal(size=(2000,2))]) \n",
    "X_train, y_train = data[:1500,:-1], data[:1500,-1] \n",
    "X_test, y_test = data[1500:,:-1], data[1500:,-1]"
   ]
  },
  {
   "cell_type": "markdown",
   "metadata": {},
   "source": [
    "Definimos una función que nos permita dibujar los datos anteriores:"
   ]
  },
  {
   "cell_type": "code",
   "execution_count": 244,
   "metadata": {
    "collapsed": false
   },
   "outputs": [
    {
     "data": {
      "image/png": "[encoded data removed]",
      "text/plain": [
       "<matplotlib.figure.Figure at 0x7f9af03f4910>"
      ]
     },
     "metadata": {},
     "output_type": "display_data"
    }
   ],
   "source": [
    "%matplotlib inline \n",
    "from matplotlib import pyplot as plt\n",
    "\n",
    "def plot_data(data):\n",
    "    trues = data[data[:,2] == True]\n",
    "    plt.plot(trues[:,0], trues[:,1], 'bo', markersize=2)\n",
    "    falses = data[data[:,2] == False]\n",
    "    plt.plot(falses[:,0], falses[:,1], 'ro', markersize=2)\n",
    "    plt.show()\n",
    "\n",
    "plot_data(data)"
   ]
  },
  {
   "cell_type": "markdown",
   "metadata": {},
   "source": [
    "Y obserbamos que, gráficamente, el conjunto de datos no es linealmente separable. \n",
    "\n",
    "Vamos a ver que resultados brinda una MSV lineal:"
   ]
  },
  {
   "cell_type": "code",
   "execution_count": 245,
   "metadata": {
    "collapsed": false
   },
   "outputs": [
    {
     "data": {
      "text/plain": [
       "0.38"
      ]
     },
     "execution_count": 245,
     "metadata": {},
     "output_type": "execute_result"
    }
   ],
   "source": [
    "svm.SVC(kernel='linear').fit(X_train,y_train).score(X_test,y_test)"
   ]
  },
  {
   "cell_type": "markdown",
   "metadata": {},
   "source": [
    "Habida cuenta de que sólo tenemos dos clases, vemos que el poder de clasificación del modelo es poco mejor que elegir la clase aleatoriamente. Era de esperar ya que el conjunto no es linealmente separable, como hemos visto en la gráfica anterior.\n",
    "\n",
    "Veamos con un kernel polinómico:"
   ]
  },
  {
   "cell_type": "code",
   "execution_count": 246,
   "metadata": {
    "collapsed": false
   },
   "outputs": [
    {
     "data": {
      "text/plain": [
       "0.504"
      ]
     },
     "execution_count": 246,
     "metadata": {},
     "output_type": "execute_result"
    }
   ],
   "source": [
    "svm.SVC(kernel='poly').fit(X_train,y_train).score(X_test,y_test)"
   ]
  },
  {
   "cell_type": "markdown",
   "metadata": {},
   "source": [
    "Con la configuración por defecto vemos que obtenemos pésimos resultados igualmente. Sin embargo, la configuración por defecto toma como grado de los polinomios 3. Veamos si probamos con polinomios de grado 2:"
   ]
  },
  {
   "cell_type": "code",
   "execution_count": 247,
   "metadata": {
    "collapsed": false
   },
   "outputs": [
    {
     "data": {
      "text/plain": [
       "0.96799999999999997"
      ]
     },
     "execution_count": 247,
     "metadata": {},
     "output_type": "execute_result"
    }
   ],
   "source": [
    "model = svm.SVC(kernel='poly', degree=2).fit(X_train,y_train)\n",
    "model.score(X_test,y_test)"
   ]
  },
  {
   "cell_type": "markdown",
   "metadata": {},
   "source": [
    "Muchísimo mejor, una clasificación casi perfecta. Podemos dibujar las áreas en las que separa el espacio original la función kernel, que efectivamente se correponden con la distribución que adoptaban nuestros datos:"
   ]
  },
  {
   "cell_type": "code",
   "execution_count": 248,
   "metadata": {
    "collapsed": false
   },
   "outputs": [
    {
     "data": {
      "image/png": "[encoded data removed]",
      "text/plain": [
       "<matplotlib.figure.Figure at 0x7f9af077ced0>"
      ]
     },
     "metadata": {},
     "output_type": "display_data"
    }
   ],
   "source": [
    "def plot_decision_function(clf, X, y):\n",
    "    h = .02  # step size in the mesh\n",
    "    x_min, x_max = X[:, 0].min() - 1, X[:, 0].max() + 1\n",
    "    y_min, y_max = X[:, 1].min() - 1, X[:, 1].max() + 1\n",
    "    xx, yy = np.meshgrid(np.arange(x_min, x_max, h), \n",
    "                         np.arange(y_min, y_max, h))\n",
    "    Z = clf.predict(np.c_[xx.ravel(), yy.ravel()])\n",
    "    Z = Z.reshape(xx.shape)\n",
    "    \n",
    "    plt.pcolormesh(xx, yy, Z, cmap=plt.cm.Paired)\n",
    "    plt.title('Funcion de decision del modelo')\n",
    "    plt.axis('tight')\n",
    "    plt.show()\n",
    "\n",
    "plot_decision_function(model, X_train, y_train)"
   ]
  },
  {
   "cell_type": "markdown",
   "metadata": {},
   "source": [
    "## Gausianas con escaso solape - separables linealmente\n",
    "\n",
    "Utilizo dos distribuciones gausianas de 2 dimensione con medias bien distintas."
   ]
  },
  {
   "cell_type": "code",
   "execution_count": 249,
   "metadata": {
    "collapsed": false
   },
   "outputs": [
    {
     "data": {
      "image/png": "[encoded data removed]",
      "text/plain": [
       "<matplotlib.figure.Figure at 0x7f9af077c6d0>"
      ]
     },
     "metadata": {},
     "output_type": "display_data"
    }
   ],
   "source": [
    "x = [[a,b,0] for a,b in np.random.normal(loc=-2, size=(1000,2))]\n",
    "y = [[a,b,1] for a,b in np.random.normal(loc=2, size=(1000,2))]\n",
    "data = np.concatenate([x,y])\n",
    "np.random.shuffle(data)\n",
    "X_train, y_train = data[:1500,:-1], data[:1500,-1] \n",
    "X_test, y_test = data[1500:,:-1], data[1500:,-1]\n",
    "plot_data(data)"
   ]
  },
  {
   "cell_type": "markdown",
   "metadata": {},
   "source": [
    "Gráficamente sé ve que este ejemplo sí es linealmente separable. Vamos a confirmarlo encontrando una SVM con un buen rendimiento:"
   ]
  },
  {
   "cell_type": "code",
   "execution_count": 250,
   "metadata": {
    "collapsed": false
   },
   "outputs": [
    {
     "name": "stdout",
     "output_type": "stream",
     "text": [
      "Model score: 0.998\n"
     ]
    },
    {
     "data": {
      "image/png": "[encoded data removed]",
      "text/plain": [
       "<matplotlib.figure.Figure at 0x7f9af0bb4990>"
      ]
     },
     "metadata": {},
     "output_type": "display_data"
    }
   ],
   "source": [
    "model = svm.SVC(kernel='linear').fit(X_train,y_train)\n",
    "print 'Model score: %s' % model.score(X_test,y_test)\n",
    "plot_decision_function(model, X_train, y_train)"
   ]
  },
  {
   "cell_type": "markdown",
   "metadata": {},
   "source": [
    "## Gausianas fuertemente solapadas - no separables\n",
    "\n",
    "Utilizo dos distribuciones gausianas de 2 dimensione con medias no muy distintas. "
   ]
  },
  {
   "cell_type": "code",
   "execution_count": 251,
   "metadata": {
    "collapsed": false
   },
   "outputs": [
    {
     "data": {
      "image/png": "[encoded data removed]",
      "text/plain": [
       "<matplotlib.figure.Figure at 0x7f9af09573d0>"
      ]
     },
     "metadata": {},
     "output_type": "display_data"
    }
   ],
   "source": [
    "x = [[a,b,0] for a,b in np.random.normal(loc=-0.2, size=(1000,2))]\n",
    "y = [[a,b,1] for a,b in np.random.normal(loc=0.2, size=(1000,2))]\n",
    "data = np.concatenate([x,y])\n",
    "np.random.shuffle(data)\n",
    "X_train, y_train = data[:1500,:-1], data[:1500,-1] \n",
    "X_test, y_test = data[1500:,:-1], data[1500:,-1]\n",
    "plot_data(data)"
   ]
  },
  {
   "cell_type": "code",
   "execution_count": 252,
   "metadata": {
    "collapsed": false
   },
   "outputs": [
    {
     "name": "stdout",
     "output_type": "stream",
     "text": [
      "Model score: 0.594\n"
     ]
    },
    {
     "data": {
      "image/png": "[encoded data removed]",
      "text/plain": [
       "<matplotlib.figure.Figure at 0x7f9af03f5890>"
      ]
     },
     "metadata": {},
     "output_type": "display_data"
    }
   ],
   "source": [
    "model = svm.SVC(kernel='linear').fit(X_train,y_train)\n",
    "print 'Model score: %s' % model.score(X_test,y_test)\n",
    "plot_decision_function(model, X_train, y_train)"
   ]
  },
  {
   "cell_type": "markdown",
   "metadata": {},
   "source": [
    "En este caso, el rendimiento del núcleo lineal ya no es bueno. Dada la aleatoriedad como he generado los valores de las clases, no es de esperar que ningún núcleo obtenga buenos resultados de clasificación.\n",
    "\n",
    "## Gausianas separable polinómicamente"
   ]
  },
  {
   "cell_type": "code",
   "execution_count": 253,
   "metadata": {
    "collapsed": false
   },
   "outputs": [
    {
     "data": {
      "image/png": "[encoded data removed]",
      "text/plain": [
       "<matplotlib.figure.Figure at 0x7f9af0647d50>"
      ]
     },
     "metadata": {},
     "output_type": "display_data"
    }
   ],
   "source": [
    "from math import sin\n",
    "data = np.array([[a,b,a**2 + b**2 < 1.1] for a,b \n",
    "                 in np.random.normal(loc=-0.2, size=(2000,2))])\n",
    "X_train, y_train = data[:1500,:-1], data[:1500,-1] \n",
    "X_test, y_test = data[1500:,:-1], data[1500:,-1]\n",
    "plot_data(data)"
   ]
  },
  {
   "cell_type": "markdown",
   "metadata": {},
   "source": [
    "El núcleo lineal parece ofrecer cierto scoring."
   ]
  },
  {
   "cell_type": "code",
   "execution_count": 254,
   "metadata": {
    "collapsed": false
   },
   "outputs": [
    {
     "name": "stdout",
     "output_type": "stream",
     "text": [
      "Model score: 0.588\n"
     ]
    },
    {
     "data": {
      "image/png": "[encoded data removed]",
      "text/plain": [
       "<matplotlib.figure.Figure at 0x7f9af0348f90>"
      ]
     },
     "metadata": {},
     "output_type": "display_data"
    }
   ],
   "source": [
    "model = svm.SVC(kernel='linear').fit(X_train,y_train)\n",
    "print 'Model score: %s' % model.score(X_test,y_test)\n",
    "plot_decision_function(model, X_train, y_train)"
   ]
  },
  {
   "cell_type": "markdown",
   "metadata": {},
   "source": [
    "Sin embargo, lo que en realidad ocurre es que clasifica todas las intancias como la más frecuente en los datos (importanto). Así lo muestra la figura anterior.\n",
    "\n",
    "En este problema, son los núcleos de base radial los que ofrecen el mejor resultado:"
   ]
  },
  {
   "cell_type": "code",
   "execution_count": 255,
   "metadata": {
    "collapsed": false
   },
   "outputs": [
    {
     "name": "stdout",
     "output_type": "stream",
     "text": [
      "Model score: 0.996\n"
     ]
    },
    {
     "data": {
      "image/png": "[encoded data removed]",
      "text/plain": [
       "<matplotlib.figure.Figure at 0x7f9af0331650>"
      ]
     },
     "metadata": {},
     "output_type": "display_data"
    }
   ],
   "source": [
    "model = svm.SVC(kernel='rbf').fit(X_train,y_train)\n",
    "print 'Model score: %s' % model.score(X_test,y_test)\n",
    "plot_decision_function(model, X_train, y_train)"
   ]
  },
  {
   "cell_type": "markdown",
   "metadata": {
    "collapsed": true
   },
   "source": [
    "# Utilizar el resto de conjuntos y discutir los resultados"
   ]
  },
  {
   "cell_type": "code",
   "execution_count": null,
   "metadata": {
    "collapsed": true
   },
   "outputs": [],
   "source": []
  },
  {
   "cell_type": "code",
   "execution_count": null,
   "metadata": {
    "collapsed": true
   },
   "outputs": [],
   "source": []
  },
  {
   "cell_type": "markdown",
   "metadata": {},
   "source": [
    "# Referencias\n",
    "\n",
    "[1] Corinna Cortes and Vladimir Vapnik. Support-vector networks. *Machine\n",
    "learning, 20(3):273–297, 1995.*\n",
    "\n",
    "[2] José Hernández Orallo and Mª José Ramírez Quintana. *Introducción a la\n",
    "Minería de Datos.*\n",
    "\n",
    "[3] Qiang Wu and Ding-Xuan Zhou. Svm soft margin classifiers: linear programming\n",
    "versus quadratic programming. *Neural computation, 17(5):1160–1187,\n",
    "2005.*\n",
    "\n",
    "[4] http://www.csie.ntu.edu.tw/~cjlin/papers/guide/guide.pdf\n"
   ]
  }
 ],
 "metadata": {
  "anaconda-cloud": {},
  "kernelspec": {
   "display_name": "Python [default]",
   "language": "python",
   "name": "python2"
  },
  "language_info": {
   "codemirror_mode": {
    "name": "ipython",
    "version": 2
   },
   "file_extension": ".py",
   "mimetype": "text/x-python",
   "name": "python",
   "nbconvert_exporter": "python",
   "pygments_lexer": "ipython2",
   "version": "2.7.13"
  },
  "toc": {
   "colors": {
    "hover_highlight": "#DAA520",
    "running_highlight": "#FF0000",
    "selected_highlight": "#FFD700"
   },
   "moveMenuLeft": true,
   "navigate_menu": false,
   "number_sections": true,
   "sideBar": false,
   "threshold": 4,
   "toc_cell": true,
   "toc_section_display": "block",
   "toc_window_display": false,
   "widenNotebook": false
  }
 },
 "nbformat": 4,
 "nbformat_minor": 2
}
