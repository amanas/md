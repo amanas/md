{
 "cells": [
  {
   "cell_type": "markdown",
   "metadata": {
    "toc": "true"
   },
   "source": [
    "# Table of Contents\n",
    " <p><div class=\"lev1 toc-item\"><a href=\"#Máquinas-de-soporte-vectorial\" data-toc-modified-id=\"Máquinas-de-soporte-vectorial-1\"><span class=\"toc-item-num\">1&nbsp;&nbsp;</span>Máquinas de soporte vectorial</a></div><div class=\"lev2 toc-item\"><a href=\"#Resumen-teórico\" data-toc-modified-id=\"Resumen-teórico-11\"><span class=\"toc-item-num\">1.1&nbsp;&nbsp;</span>Resumen teórico</a></div><div class=\"lev3 toc-item\"><a href=\"#Definición-formal\" data-toc-modified-id=\"Definición-formal-111\"><span class=\"toc-item-num\">1.1.1&nbsp;&nbsp;</span>Definición formal</a></div><div class=\"lev3 toc-item\"><a href=\"#Funciones-kernel\" data-toc-modified-id=\"Funciones-kernel-112\"><span class=\"toc-item-num\">1.1.2&nbsp;&nbsp;</span>Funciones kernel</a></div><div class=\"lev3 toc-item\"><a href=\"#Outliers\" data-toc-modified-id=\"Outliers-113\"><span class=\"toc-item-num\">1.1.3&nbsp;&nbsp;</span>Outliers</a></div><div class=\"lev3 toc-item\"><a href=\"#Preprocesado-de-datos\" data-toc-modified-id=\"Preprocesado-de-datos-114\"><span class=\"toc-item-num\">1.1.4&nbsp;&nbsp;</span>Preprocesado de datos</a></div><div class=\"lev4 toc-item\"><a href=\"#Atributos-categóricos\" data-toc-modified-id=\"Atributos-categóricos-1141\"><span class=\"toc-item-num\">1.1.4.1&nbsp;&nbsp;</span>Atributos categóricos</a></div><div class=\"lev4 toc-item\"><a href=\"#Escalado\" data-toc-modified-id=\"Escalado-1142\"><span class=\"toc-item-num\">1.1.4.2&nbsp;&nbsp;</span>Escalado</a></div><div class=\"lev3 toc-item\"><a href=\"#Selección-del-modelo\" data-toc-modified-id=\"Selección-del-modelo-115\"><span class=\"toc-item-num\">1.1.5&nbsp;&nbsp;</span>Selección del modelo</a></div><div class=\"lev3 toc-item\"><a href=\"#Cross-validation\" data-toc-modified-id=\"Cross-validation-116\"><span class=\"toc-item-num\">1.1.6&nbsp;&nbsp;</span>Cross-validation</a></div><div class=\"lev2 toc-item\"><a href=\"#Notas-a-la-implementación\" data-toc-modified-id=\"Notas-a-la-implementación-12\"><span class=\"toc-item-num\">1.2&nbsp;&nbsp;</span>Notas a la implementación</a></div><div class=\"lev2 toc-item\"><a href=\"#Actividad-1:-análisis-del-fichero-S\" data-toc-modified-id=\"Actividad-1:-análisis-del-fichero-S-13\"><span class=\"toc-item-num\">1.3&nbsp;&nbsp;</span>Actividad 1: análisis del fichero S</a></div><div class=\"lev3 toc-item\"><a href=\"#Cargar-los-ficheros-s-train/test\" data-toc-modified-id=\"Cargar-los-ficheros-s-train/test-131\"><span class=\"toc-item-num\">1.3.1&nbsp;&nbsp;</span>Cargar los ficheros s-train/test</a></div><div class=\"lev3 toc-item\"><a href=\"#Seleccionar-las-3-clases-más-frecuentes\" data-toc-modified-id=\"Seleccionar-las-3-clases-más-frecuentes-132\"><span class=\"toc-item-num\">1.3.2&nbsp;&nbsp;</span>Seleccionar las 3 clases más frecuentes</a></div><div class=\"lev3 toc-item\"><a href=\"#Obtención-de-un-clasificador-MVS-lineal-en-el-espacio-de-parámetros\" data-toc-modified-id=\"Obtención-de-un-clasificador-MVS-lineal-en-el-espacio-de-parámetros-133\"><span class=\"toc-item-num\">1.3.3&nbsp;&nbsp;</span>Obtención de un clasificador MVS lineal en el espacio de parámetros</a></div><div class=\"lev3 toc-item\"><a href=\"#Realizar-una-búsqueda-similar-para-núcleos-polinómicos-de-grado-2\" data-toc-modified-id=\"Realizar-una-búsqueda-similar-para-núcleos-polinómicos-de-grado-2-134\"><span class=\"toc-item-num\">1.3.4&nbsp;&nbsp;</span>Realizar una búsqueda similar para núcleos polinómicos de grado 2</a></div><div class=\"lev3 toc-item\"><a href=\"#Obtención-de-un-clasificador-MVS-lineal-en-el-espacio-proyectado-mediante-un-núcleo-gaussiano\" data-toc-modified-id=\"Obtención-de-un-clasificador-MVS-lineal-en-el-espacio-proyectado-mediante-un-núcleo-gaussiano-135\"><span class=\"toc-item-num\">1.3.5&nbsp;&nbsp;</span>Obtención de un clasificador MVS lineal en el espacio proyectado mediante un núcleo gaussiano</a></div><div class=\"lev2 toc-item\"><a href=\"#Actividad-2:-Probar-distintos-tipos-de-nucleos-con-un-problema-no-separable-linealmente\" data-toc-modified-id=\"Actividad-2:-Probar-distintos-tipos-de-nucleos-con-un-problema-no-separable-linealmente-14\"><span class=\"toc-item-num\">1.4&nbsp;&nbsp;</span>Actividad 2: Probar distintos tipos de nucleos con un problema no separable linealmente</a></div><div class=\"lev2 toc-item\"><a href=\"#Utilizar-el-resto-de-conjuntos-y-discutir-los-resultados\" data-toc-modified-id=\"Utilizar-el-resto-de-conjuntos-y-discutir-los-resultados-15\"><span class=\"toc-item-num\">1.5&nbsp;&nbsp;</span>Utilizar el resto de conjuntos y discutir los resultados</a></div><div class=\"lev2 toc-item\"><a href=\"#Referencias\" data-toc-modified-id=\"Referencias-16\"><span class=\"toc-item-num\">1.6&nbsp;&nbsp;</span>Referencias</a></div>"
   ]
  },
  {
   "cell_type": "markdown",
   "metadata": {},
   "source": [
    "# Máquinas de soporte vectorial\n",
    "\n",
    "1. Resumen teórico 0,313\n",
    "2. Objetivo 0,313\n",
    "3. Figuras de la técnica (separadores) 0,313\n",
    "4. Referencias 0,313\n",
    "5. Sobreajuste 0,625\n",
    "6. Kernel Trick 0,313\n",
    "7. Cross-Validation 0,313\n",
    "8. Estudio 1,875\n",
    "9. Estudio 1,875\n",
    "10. Estudio 3,750\n",
    "11. Estudio 1,250\n",
    "12. Estudio 1,250"
   ]
  },
  {
   "cell_type": "markdown",
   "metadata": {},
   "source": [
    "## Resumen teórico\n",
    "\n",
    "Las máquinas de soporte vectorial son un tipo de algoritmos utilizados principalmente para clasificación y para regresión desarollados por Vladimir Vapnik y su equipo [1].\n",
    "\n",
    "Las máquinas de soporte vectorial funcionan generando un hiperplano que separa el espacio de muestras de forma que, idealmente, patrones de diferentes clases nunca aparezcan en el mismo lado del plano. Como existen infinitos hiperplanos que separen el espacio, se busca aquel cuya distancia entre el hiperplano y los patrones de cada clase sea la máxima posible (ver Figura 1). A los puntos que conforman las dos líneas paralelas al hiperplano, siendo la distancia entre ellas (margen) la mayor posible, se les denomina vectores de soporte. En la fase de entrenamiento de las máquinas de soporte vectorial, nos centraremos en hallar los vectores de soporte empleando técnicas de programación cuadrática [3].\n",
    "\n",
    "Una vez obtenemos el hiperplano podemos utilizar la Máquina en problemas de clasificación, escogiendo patrones que no hayan sido vistos durante la fase de entrenamiento, y aplicando una etiqueta (clase) en función del lado del hiperplano en el que se proyecten.\n",
    "\n",
    "![\"Representación básica de SVM\"](esquema-basico-svm.PNG)\n",
    "*Figura 1: Ejemplo de 2 dimensiones para una máquina de soporte vectorial, obsérvese que la recta roja es la que maximiza la distancia entre los vectores de soporte (los puntos en amarillo)*\n",
    "\n",
    "\n",
    "\n",
    "Los universos a estudiar no se suelen presentar en casos idílicos de dos dimensiones como en el ejemplo anterior, sino que un algoritmo SVM debe tratar con:\n",
    "\n",
    "- Más de dos variables predictoras\n",
    "- Curvas no lineales de separación\n",
    "- Casos donde los conjuntos de datos no pueden ser completamente separados\n",
    "- Clasificaciones en más de dos categorías\n",
    "\n",
    "![\"Patrones no separables linealmente\"](no-separable-linealmente.PNG)\n",
    "*Figura 2: Espacio de 2 dimensiones en el que los patrones no son separables linealmente*\n",
    "\n",
    "### Definición formal\n",
    "\n",
    "> Dado un conjunto de entrenamiento formado por pares de instancias y etiquetas\n",
    "$$(x_i,y_i),  i=1, . . . , l \\text{ donde } x_i \\in R^n, y \\in \\{1, −1\\}^l$$\n",
    ", las SVMs pueden entenderse como la solución al siguiente problema de optimización::\n",
    "$$\n",
    "\\begin{aligned}\n",
    "\\underset{w,b,\\epsilon}{\\operatorname{argmin}} & & \\frac{1}{2}w^Tw + C\n",
    "\\sum_1^l{\\epsilon_i} \\\\\n",
    "\\text{sujeto a} & & y_i(w^T \\phi(x_i) + b) \\ge 1- \\epsilon_i \\\\\n",
    " & & \\epsilon_i \\ge 0\n",
    "\\end{aligned}\n",
    "$$\n",
    "Además, $K(x_i, x_j ) ≡ \\phi(x_i)^T \\phi(x_j)$ es llamada la función kernel.\n",
    "\n",
    "*Figura 3. Definición formal de las SVMs según [4]*\n",
    "\n",
    "Los vectores de entrenamiento $x_i$ son asignados a un espacio de mayor dimensiones (incluso infinitas) por la función $\\phi$. La máquina de soporte vectorial encuentra el hiperplano con máximo margen de separación en el espacio dimensional superior. C > 0 es el parámetro de penalización del término de error.\n",
    "\n",
    "### Funciones kernel\n",
    "\n",
    "Cuando el espacio donde trabajamos no permite separar linealmente los patrones de forma perfecta, como se puede observar en la figura 2, es imposible trazar un hiperplano que separe perfectamente los patrones. \n",
    "\n",
    "Por ello entran en juego las llamadas **funciones kernel**, funciones matemáticas que nos permiten proyectar los patrones en un espacio de mayor dimensión que el original dónde estos si son linealmente separables mediante un hiperplano (Figura 3). \n",
    "\n",
    "![\"Kernel de 2 a 3 dimensiones\"](ejemplo-kernel.PNG)\n",
    "*Figura 4: Kernel de 2 a 3 dimensiones dónde los patrones pueden ser perfectamente separados mediante un hiperplano*\n",
    "\n",
    "De nuevo, y como en la gran mayoría de algoritmos de aprendizaje máquina, **si elegimos un modelo (en este caso una función kernel) que se ajuste demasiado bien a los patrones de entrenamiento**, el clasificador perderá capacidad de generalización por lo que tendrá un mal comportamiento ante nuevos patrones y se hablará de **sobreentrenamiento**.\n",
    "\n",
    "Las funciones kernel más comunmente utilizadas son:\n",
    "\n",
    "- lineales: $K(x_i,x_j) = x_i^T x_j$\n",
    "- polinómicas: $K(x_i,x_j) = (\\gamma x_i^T x_j +r)^d, \\gamma \\ge 0$\n",
    "- funciones de base radial (RBF): $K(x_i,x_j) = exp(-\\gamma \\lVert x_i - x_j \\lVert ^2), \\gamma \\ge 0$\n",
    "- sigmoide: $K(x_i,x_j) = \\tanh(\\gamma x_i^T x_j +r) $\n",
    "\n",
    "\n",
    "### Outliers\n",
    "\n",
    "No siempre es posible encontrar una transformación de los datos que permita separarlos linealmente [2] o incluso a veces, no es conveniente.\n",
    "\n",
    "En este caso nos encontramos con instancias en el conjunto de entrenamiento que se situan en lugares del espacio muy separados o aislados de la zona dónde se sitúan la mayoría de instancias de entrenamiento con las que comparten la clase.\n",
    "\n",
    "La presencia de ruido o de **outliers** pueden llegar tambien a provocar soluciones sobreajustadas a los patrones de entrenamiento que no generalizan bien. Para tratar con estas situaciones se crearon los llamados **SVM de margen blando** cuya idea principal es introducir una holgura al margen existente entre los vectores de soporte y el hiperplano que permite que las restricciones no se cumplan de manera estricta. \n",
    "\n",
    "Se introduce por tanto en el proceso de entrenamiento una constante **C** que controlará el tamaño de la holgura.\n",
    "\n",
    "**El parámetro C le indica a la SVM, en el proceso de entrenamiento, el grado de ejemplos mal clasificados permitido.** \n",
    "\n",
    "Para valores grandes de C, la optimización elegirá un hiperplano de margen más pequeño si ese hiperplano hace un mejor trabajo para conseguir que todos los puntos de entrenamiento estén clasificados correctamente. Es decir, se evitan en mayor medida ejemplos mal clasificados aunque ello conduzca a hiperplanos de margen menor.\n",
    "\n",
    "Por el contrario, un valor muy pequeño de C hará que el optimizador busque un hiperplano de separación de mayor margen, incluso si ese hiperplano clasifica erróneamente más puntos. Para valores muy pequeños de C frecuentemente se obtienen ejemplos mal clasificados,  incluso si los datos de entrenamiento son linealmente separables. Sin embargo, el sobreajuste del clasificador es menor y generalmente se obtienen clasificadores que generalizan mejor.\n",
    "\n",
    "### Preprocesado de datos\n",
    "\n",
    "Se suele realizar a dos niveles [4]:\n",
    "\n",
    "#### Atributos categóricos\n",
    "\n",
    "Las SVMs requieren que cada instancia de datos se represente como un vector de números reales. Por lo tanto, si hay atributos categóricos, primero tenemos que convertirlos en datos numéricos. Se recomienda utilizar m números para representar un atributo con m categorías. Solamente uno de los m números es uno, y los otros son cero. Por ejemplo, una categoría de tres atributos como {rojo, verde, azul} puede representarse como (0,0,1), (0,1,0) y (1,0,0).\n",
    "\n",
    "La experiencia indica que si el número de valores en un atributo no es demasiado grande, esta codificación puede ser más estable que usar un solo número.\n",
    "\n",
    "#### Escalado\n",
    "\n",
    "Escalar los datos antes de aplicar las SVMs es muy importante. La mayoría de las consideraciones hechas para redes neuronales también se aplican a las SVMs. \n",
    "\n",
    "La principal ventaja de escalar es evitar que atributos cuyos valores se mueven en rangos numéricos altos dominen a aquellos que se mueven en rangos numéricos más pequeños. Otra ventaja es evitar dificultades numéricas durante el cálculo, dado que los valores del kernel normalmente dependen de los productos internos de vectores de características, p. \n",
    "\n",
    "Se recomienda un escalado lineal de cada atributo al rango [-1, +1] o [0, 1]. Por supuesto, hay usar el mismo método para escalar el los datos de entrenamiento y los de prueba.\n",
    "\n",
    "### Selección del modelo\n",
    "\n",
    "Aunque sólo son cuatro las funciones kernel más comunes, se debe decidir una para entrenar la SVM. Una vez elegido el núcleo, se ajustan los parámetros de penalización C y los parámetros propios del kernel elegido.\n",
    "\n",
    "**Según [4], en general, el núcleo RBF es una primera opción razonable.** \n",
    "\n",
    "Este kernel no correlaciona las muestras en un espacio dimensional superior, a diferencia del núcleo lineal, con lo que se puede manejar el caso cuando la relación entre las etiquetas y los atributos no es lineal. Además, el núcleo lineal es un caso especial de RBF.\n",
    "\n",
    "La segunda razón es el número de hiperparámetros que influyen en la complejidad de la selección del modelo. El núcleo polinomial tiene más hiperparametros que el núcleo RBF.\n",
    "\n",
    "Por último, el núcleo RBF tiene menos dificultades numéricas ya que el resultado  de aplicar la función kernel es siempre menor que 1.\n",
    "\n",
    "Hay algunas situaciones en las que el núcleo RBF no es adecuado. En particular, cuando el número de características es muy grande, se puede utilizar el núcleo lineal.\n",
    "\n",
    "### Cross-validation\n",
    "\n",
    "Hay dos parámetros para un núcleo RBF: ** C y $\\gamma$ **. No se sabe de antemano que C y $\\gamma$ son los mejores para un problema dado. En consecuencia, algún tipo de estrategia de selección de parámetros debe realizarse. El objetivo es identificar los parámetros C y $\\gamma$ que generen el modelo que mejor clasifique nuestros datos. El proceso de encontrar estos parámetros consiste la fase de entrenamiento de la SVM.\n",
    "\n",
    "Con la técnica de validación cruzada, primero dividimos el conjunto de entrenamiento en v subconjuntos de igual tamaño. Secuencialmente, el modelo se entrena en $v-1$ subconjuntos y se valida el el restante subconjunto. El método de validación cruzada ayuda e prevenir el problema del sobreajuste, pues todas las instancias acaban siendo usadas para entrenamiento y para validación, alternativamente.\n",
    "\n",
    "## Notas a la implementación\n",
    "\n",
    "En el enunciado de la práctica se hace mención explícita a WEKA y a Torch.\n",
    "\n",
    "Sin embargo, entiendo que el lenguaje o la herramienta con la que resuelvan las prácticas es libre y las referencias a WEKA es simplemente por tener una herramienta por defecto para quien no tenga otras preferencias.\n",
    "\n",
    "En este sentido, y espero no estar cometiendo un error, me tomo la libertad de desarrollar esta práctica con python utilizando scikit-learn como librería de machine-learning.\n",
    "\n",
    "## Actividad 1: análisis del fichero S\n",
    "\n",
    "### Cargar los ficheros s-train/test"
   ]
  },
  {
   "cell_type": "code",
   "execution_count": 273,
   "metadata": {
    "collapsed": false,
    "scrolled": false
   },
   "outputs": [],
   "source": [
    "from scipy.io.arff import loadarff\n",
    "\n",
    "S_train,S_meta = loadarff('svm-data/s-train.arff')\n",
    "S_test,_       = loadarff('svm-data/s-test.arff')"
   ]
  },
  {
   "cell_type": "markdown",
   "metadata": {},
   "source": [
    "### Seleccionar las 3 clases más frecuentes"
   ]
  },
  {
   "cell_type": "code",
   "execution_count": 274,
   "metadata": {
    "collapsed": false,
    "scrolled": false
   },
   "outputs": [
    {
     "name": "stdout",
     "output_type": "stream",
     "text": [
      "Top 3 classes: ['46', '20', '110']\n"
     ]
    }
   ],
   "source": [
    "import numpy as np\n",
    "\n",
    "classes = np.concatenate((S_train['class'],S_test['class']))\n",
    "class_counts = dict(zip(*np.unique(classes,return_counts=True)))\n",
    "top_three = sorted(class_counts, key=class_counts.get, reverse=True)[0:3]\n",
    "\n",
    "print 'Top 3 classes: %s' % top_three\n",
    "\n",
    "S_top3_train = S_train[np.in1d(S_train['class'], top_three)]\n",
    "S_top3_test  = S_test[np.in1d(S_test['class'], top_three)]"
   ]
  },
  {
   "cell_type": "markdown",
   "metadata": {},
   "source": [
    "### Obtención de un clasificador MVS lineal en el espacio de parámetros\n",
    "\n",
    "Vamos a realizar una búsqueda en el espacio de parámetros para seleccionar el que produce mejores resultados\n",
    "evaluados mediante validación cruzada. \n",
    "\n",
    "Probaremos N valores del parámetro **C** equiespaciados entre dos valores A y B. Empezaremos con exploraciones con valores de N pequeños (2 o 3). Cuando tengamos una idea aproximada del tiempo empleado en cada exploración, ampliaremos el valor de N si lo creemos oportuno.\n",
    "\n",
    "Valores orientativos para el inicio pueden ser diversos rangos pequeños alrededor de 0.001, 0.01, 0.1,1 y 10.\n",
    "\n",
    "Obsérvese que la función cross_val_score entrena y evalúa un estimador por validación cruzada, devolviendo un array por ronda de la puntuación obtenida por el estimador en cada fold."
   ]
  },
  {
   "cell_type": "code",
   "execution_count": 342,
   "metadata": {
    "collapsed": false
   },
   "outputs": [
    {
     "name": "stdout",
     "output_type": "stream",
     "text": [
      "C = 0.001:  \t[ 0.6         0.8         0.8         0.8         0.76923077]\n",
      "C = 0.01:  \t[ 0.53333333  0.8         0.8         0.8         0.61538462]\n",
      "C = 0.1:  \t[ 0.53333333  0.8         0.8         0.8         0.61538462]\n",
      "C = 1:  \t[ 0.53333333  0.8         0.8         0.8         0.61538462]\n",
      "C = 10:  \t[ 0.53333333  0.8         0.8         0.8         0.61538462]\n"
     ]
    }
   ],
   "source": [
    "from sklearn import svm\n",
    "from sklearn.model_selection import cross_val_score\n",
    "\n",
    "X = S_top3_train[S_meta.names()[:-1]].reshape(-1, 1)\n",
    "y = S_top3_train['class']\n",
    "\n",
    "for C in [0.001, 0.01, 0.1, 1, 10]:\n",
    "    model = svm.SVC(kernel='linear', C=C)\n",
    "    print 'C = %s:  \\t%s' % (C,cross_val_score(model, X, y, cv=5))"
   ]
  },
  {
   "cell_type": "markdown",
   "metadata": {},
   "source": [
    "Vemos que los mejores resultados se obtienen cuando C adopta valores pequeños, es decir, para MVS de margen blando.\n",
    "\n",
    "Vemos además que otros valores de C alrededor de 0.001 no mejoran sustancialmente los resultados:"
   ]
  },
  {
   "cell_type": "code",
   "execution_count": 348,
   "metadata": {
    "collapsed": false
   },
   "outputs": [
    {
     "name": "stdout",
     "output_type": "stream",
     "text": [
      "C = 0.0001:  \t[ 0.6         0.8         0.8         0.8         0.76923077]\n",
      "C = 0.0006:  \t[ 0.6         0.8         0.8         0.8         0.76923077]\n",
      "C = 0.0011:  \t[ 0.6         0.8         0.8         0.8         0.76923077]\n",
      "C = 0.0016:  \t[ 0.6         0.8         0.8         0.8         0.76923077]\n",
      "C = 0.0021:  \t[ 0.53333333  0.8         0.8         0.8         0.76923077]\n",
      "C = 0.0026:  \t[ 0.53333333  0.8         0.8         0.8         0.76923077]\n",
      "C = 0.0031:  \t[ 0.53333333  0.8         0.8         0.8         0.76923077]\n",
      "C = 0.0036:  \t[ 0.46666667  0.8         0.8         0.8         0.76923077]\n",
      "C = 0.0041:  \t[ 0.53333333  0.8         0.8         0.8         0.76923077]\n",
      "C = 0.0046:  \t[ 0.53333333  0.8         0.8         0.8         0.76923077]\n",
      "C = 0.0051:  \t[ 0.53333333  0.8         0.8         0.8         0.76923077]\n",
      "C = 0.0056:  \t[ 0.53333333  0.8         0.8         0.8         0.61538462]\n",
      "C = 0.0061:  \t[ 0.53333333  0.8         0.8         0.8         0.61538462]\n",
      "C = 0.0066:  \t[ 0.53333333  0.8         0.8         0.8         0.61538462]\n",
      "C = 0.0071:  \t[ 0.53333333  0.8         0.8         0.8         0.61538462]\n",
      "C = 0.0076:  \t[ 0.53333333  0.8         0.8         0.8         0.61538462]\n",
      "C = 0.0081:  \t[ 0.53333333  0.8         0.8         0.8         0.61538462]\n",
      "C = 0.0086:  \t[ 0.53333333  0.8         0.8         0.8         0.61538462]\n",
      "C = 0.0091:  \t[ 0.53333333  0.8         0.8         0.8         0.61538462]\n",
      "C = 0.0096:  \t[ 0.53333333  0.8         0.8         0.8         0.61538462]\n"
     ]
    }
   ],
   "source": [
    "for C in np.arange(0.0001,0.01,0.0005):\n",
    "    model = svm.SVC(kernel='linear', C=C)\n",
    "    print 'C = %s:  \\t%s' % (C,cross_val_score(model, X, y, cv=5))"
   ]
  },
  {
   "cell_type": "markdown",
   "metadata": {},
   "source": [
    "**Como obtenemos algunas máquinas con unos errores de clasificación en torno al 0.76%, podemos sospechar que el problema sí es linealmente separable.**\n",
    "\n",
    "Podemos evaluar entonces el resultado de entrenar una MVS con C=0.001 en nuestro conjunto de prueba:"
   ]
  },
  {
   "cell_type": "code",
   "execution_count": 384,
   "metadata": {
    "collapsed": false
   },
   "outputs": [
    {
     "data": {
      "text/plain": [
       "0.66386554621848737"
      ]
     },
     "execution_count": 384,
     "metadata": {},
     "output_type": "execute_result"
    }
   ],
   "source": [
    "X_test = S_top3_test[S_meta.names()[:-1]].reshape(-1, 1)\n",
    "y_test = S_top3_test['class']\n",
    "model = svm.SVC(kernel='linear', C=0.001).fit(X,y)\n",
    "model.score(X_test, y_test)"
   ]
  },
  {
   "cell_type": "markdown",
   "metadata": {},
   "source": [
    "### Realizar una búsqueda similar para núcleos polinómicos de grado 2\n",
    "\n",
    "Procedemos de forma similar al punto anterior, pero en este caso utilizando una función kernel de tipo polinómica."
   ]
  },
  {
   "cell_type": "code",
   "execution_count": 347,
   "metadata": {
    "collapsed": false
   },
   "outputs": [
    {
     "name": "stdout",
     "output_type": "stream",
     "text": [
      "C = 0.001:  \t[ 0.53333333  0.8         0.8         0.8         0.76923077]\n",
      "C = 0.01:  \t[ 0.53333333  0.8         0.8         0.8         0.76923077]\n",
      "C = 0.1:  \t[ 0.53333333  0.8         0.8         0.8         0.76923077]\n",
      "C = 1:  \t[ 0.53333333  0.8         0.8         0.8         0.76923077]\n",
      "C = 10:  \t[ 0.53333333  0.8         0.8         0.8         0.76923077]\n"
     ]
    }
   ],
   "source": [
    "for C in [0.001, 0.01, 0.1, 1, 10]:\n",
    "    model = svm.SVC(kernel='poly', degree=2, C=C)\n",
    "    print 'C = %s:  \\t%s' % (C,cross_val_score(model, X, y, cv=5))"
   ]
  },
  {
   "cell_type": "markdown",
   "metadata": {},
   "source": [
    "Vemos que los resultados no son mejores que en la caso de un kernel lineal. \n",
    "\n",
    "### Obtención de un clasificador MVS lineal en el espacio proyectado mediante un núcleo gaussiano\n",
    "\n",
    "Repetimos los pasos del apartado anterior incluyendo en la ventana de parámetros explorados dos entradas, una para el parámetro C y otra para G (gamma) del núcleo gaussiano o de base radial. \n",
    "\n",
    "Para facilitar el procedimiento, comenzamos fijando un rango alrededor del valor óptimo de C obtenido en la sección anterior."
   ]
  },
  {
   "cell_type": "code",
   "execution_count": 370,
   "metadata": {
    "collapsed": false
   },
   "outputs": [
    {
     "name": "stdout",
     "output_type": "stream",
     "text": [
      "C = 0.0005, G=0.001:  \t[ 0.4         0.4         0.4         0.4         0.76923077]\n",
      "C = 0.0005, G=0.01:  \t[ 0.4         0.4         0.4         0.4         0.61538462]\n",
      "C = 0.0005, G=0.1:  \t[ 0.4         0.4         0.4         0.4         0.53846154]\n",
      "C = 0.0005, G=1:  \t[ 0.4         0.4         0.4         0.4         0.38461538]\n",
      "C = 0.001, G=0.001:  \t[ 0.4         0.4         0.4         0.4         0.76923077]\n",
      "C = 0.001, G=0.01:  \t[ 0.4         0.4         0.4         0.4         0.61538462]\n",
      "C = 0.001, G=0.1:  \t[ 0.4         0.4         0.4         0.4         0.53846154]\n",
      "C = 0.001, G=1:  \t[ 0.4         0.4         0.4         0.4         0.38461538]\n",
      "C = 0.005, G=0.001:  \t[ 0.4         0.4         0.4         0.4         0.76923077]\n",
      "C = 0.005, G=0.01:  \t[ 0.4         0.4         0.4         0.4         0.61538462]\n",
      "C = 0.005, G=0.1:  \t[ 0.4         0.4         0.4         0.4         0.53846154]\n",
      "C = 0.005, G=1:  \t[ 0.4         0.4         0.4         0.4         0.38461538]\n"
     ]
    }
   ],
   "source": [
    "Cs = [0.0005, 0.001, 0.005]\n",
    "Gs = [0.001, 0.01, 0.1, 1]\n",
    "for C in Cs:\n",
    "    for G in Gs:\n",
    "        model = svm.SVC(kernel='rbf', C=C, gamma=G)\n",
    "        print 'C = %s, G=%s:  \\t%s' % \\\n",
    "              (C,G,cross_val_score(model, X, y, cv=5))"
   ]
  },
  {
   "cell_type": "markdown",
   "metadata": {},
   "source": [
    "Observamos que los mejores resultados se encuentran con valores de gamma muy pequeños, aunque siempre son peores que los que se encontraron en el caso del núcleo lineal. **Esto puede ser síntoma de que se está produciendo sobreajuste.**"
   ]
  },
  {
   "cell_type": "markdown",
   "metadata": {},
   "source": [
    "## Actividad 2: Probar distintos tipos de nucleos con un problema no separable linealmente\n",
    "\n",
    "Genere un conjunto de entrenamiento con dos atributos, no separable linealmente. Por ejemplo, utilice dos distribuciones de probabilidad gaussianas para cada clase y simule el problema XOR. Pruebe distintos tipos de núcleo y analice y discuta los resultados ayudándose de gráficas.\n",
    "\n",
    "Puede variar los parámetros de las gaussianas aumentando o disminuyendo las regiones de solape entre clases y estudiar el valor óptimo de los parámetros en función del tamaño de las regiones de confusión.\n",
    "\n",
    "Primero generamos un conjunto de datos, donde las dos primeras columnas son valores normales aleatorios y la tercera es el XOR de las dos primeras (True si tienen distinto signo, False si no)."
   ]
  },
  {
   "cell_type": "code",
   "execution_count": 468,
   "metadata": {
    "collapsed": false,
    "scrolled": false
   },
   "outputs": [],
   "source": [
    "data = np.array([[x,y,x*y <= 0] for x,y in np.random.normal(size=(3000,2))])"
   ]
  },
  {
   "cell_type": "markdown",
   "metadata": {},
   "source": [
    "Definimos una función que nos permita dibujar los datos anteriores:"
   ]
  },
  {
   "cell_type": "code",
   "execution_count": 469,
   "metadata": {
    "collapsed": false
   },
   "outputs": [
    {
     "data": {
      "image/png": "[encoded data removed]",
      "text/plain": [
       "<matplotlib.figure.Figure at 0x7ff400c52b90>"
      ]
     },
     "metadata": {},
     "output_type": "display_data"
    }
   ],
   "source": [
    "%matplotlib inline \n",
    "from matplotlib import pyplot as plt\n",
    "\n",
    "def plot_data(data):\n",
    "    trues = data[data[:,2] == True]\n",
    "    plt.plot(trues[:,0], trues[:,1], 'bo')\n",
    "    falses = data[data[:,2] == False]\n",
    "    plt.plot(falses[:,0], falses[:,1], 'ro')\n",
    "    plt.show()\n",
    "\n",
    "plot_data(data)"
   ]
  },
  {
   "cell_type": "markdown",
   "metadata": {},
   "source": [
    "Y obserbamos que, gráficamente, el conjunto de datos no es linealmente separable. \n",
    "\n",
    "Vamos a ver que resultados brinda una MSV lineal:"
   ]
  },
  {
   "cell_type": "code",
   "execution_count": 471,
   "metadata": {
    "collapsed": false
   },
   "outputs": [
    {
     "data": {
      "text/plain": [
       "0.499"
      ]
     },
     "execution_count": 471,
     "metadata": {},
     "output_type": "execute_result"
    }
   ],
   "source": [
    "X_train = data[:2000,:-1]\n",
    "y_train = data[:2000,-1]\n",
    "X_test = data[2000:,:-1]\n",
    "y_test = data[2000:,-1]\n",
    "\n",
    "svm.SVC(kernel='linear').fit(X_train,y_train).score(X_test,y_test)"
   ]
  },
  {
   "cell_type": "markdown",
   "metadata": {},
   "source": [
    "Habida cuenta de que sólo tenemos dos clases, vemos que la clasificación es peor que elegir la clase aleatoriamente. Es decir, no es linealmente separable.\n",
    "\n",
    "Veamos con un kernel polinómico:"
   ]
  },
  {
   "cell_type": "code",
   "execution_count": 475,
   "metadata": {
    "collapsed": false
   },
   "outputs": [
    {
     "data": {
      "text/plain": [
       "0.50700000000000001"
      ]
     },
     "execution_count": 475,
     "metadata": {},
     "output_type": "execute_result"
    }
   ],
   "source": [
    "svm.SVC(kernel='poly').fit(X_train,y_train).score(X_test,y_test)"
   ]
  },
  {
   "cell_type": "markdown",
   "metadata": {},
   "source": [
    "Con la configuración por defecto vemos que obtenemos pésimos resultados igualmente. Sin embargo, la configuración por defecto toma como grado de los polinomios 3. Veamos si probamos con polinomios de grado 2:"
   ]
  },
  {
   "cell_type": "code",
   "execution_count": 478,
   "metadata": {
    "collapsed": false
   },
   "outputs": [
    {
     "data": {
      "text/plain": [
       "0.97399999999999998"
      ]
     },
     "execution_count": 478,
     "metadata": {},
     "output_type": "execute_result"
    }
   ],
   "source": [
    "model = svm.SVC(kernel='poly', degree=2).fit(X_train,y_train)\n",
    "model.score(X_test,y_test)"
   ]
  },
  {
   "cell_type": "markdown",
   "metadata": {},
   "source": [
    "Muchísimo mejor, casi una clasificación perfecta. Podemos dibujar las áreas en las que separa el espacio original la función kernel, que efectivamente se correponden con la distribución que adoptaban nuestros datos:"
   ]
  },
  {
   "cell_type": "code",
   "execution_count": 542,
   "metadata": {
    "collapsed": false
   },
   "outputs": [
    {
     "data": {
      "image/png": "[encoded data removed]",
      "text/plain": [
       "<matplotlib.figure.Figure at 0x7ff400c49890>"
      ]
     },
     "metadata": {},
     "output_type": "display_data"
    }
   ],
   "source": [
    "def plot_decision_function(clf, X, y):\n",
    "    h = .02  # step size in the mesh\n",
    "    x_min, x_max = X[:, 0].min() - 1, X[:, 0].max() + 1\n",
    "    y_min, y_max = X[:, 1].min() - 1, X[:, 1].max() + 1\n",
    "    xx, yy = np.meshgrid(np.arange(x_min, x_max, h), np.arange(y_min, y_max, h))\n",
    "    Z = clf.predict(np.c_[xx.ravel(), yy.ravel()])\n",
    "\n",
    "    Z = Z.reshape(xx.shape)\n",
    "    plt.pcolormesh(xx, yy, Z, cmap=plt.cm.Paired)\n",
    "\n",
    "    plt.title('2-Class classification using Support Vector Machine')\n",
    "    plt.axis('tight')\n",
    "    plt.show()\n",
    "\n",
    "plot_decision_function(model, X_train, y_train)"
   ]
  },
  {
   "cell_type": "markdown",
   "metadata": {},
   "source": [
    "## Utilizar el resto de conjuntos y discutir los resultados"
   ]
  },
  {
   "cell_type": "code",
   "execution_count": null,
   "metadata": {
    "collapsed": true
   },
   "outputs": [],
   "source": []
  },
  {
   "cell_type": "code",
   "execution_count": null,
   "metadata": {
    "collapsed": true
   },
   "outputs": [],
   "source": []
  },
  {
   "cell_type": "code",
   "execution_count": null,
   "metadata": {
    "collapsed": true
   },
   "outputs": [],
   "source": []
  },
  {
   "cell_type": "markdown",
   "metadata": {},
   "source": [
    "## Referencias\n",
    "\n",
    "[1] Corinna Cortes and Vladimir Vapnik. Support-vector networks. *Machine\n",
    "learning, 20(3):273–297, 1995.*\n",
    "\n",
    "[2] José Hernández Orallo and Mª José Ramírez Quintana. *Introducción a la\n",
    "Minería de Datos.*\n",
    "\n",
    "[3] Qiang Wu and Ding-Xuan Zhou. Svm soft margin classifiers: linear programming\n",
    "versus quadratic programming. *Neural computation, 17(5):1160–1187,\n",
    "2005.*\n",
    "\n",
    "[4] http://www.csie.ntu.edu.tw/~cjlin/papers/guide/guide.pdf\n"
   ]
  }
 ],
 "metadata": {
  "anaconda-cloud": {},
  "kernelspec": {
   "display_name": "Python [default]",
   "language": "python",
   "name": "python2"
  },
  "language_info": {
   "codemirror_mode": {
    "name": "ipython",
    "version": 2
   },
   "file_extension": ".py",
   "mimetype": "text/x-python",
   "name": "python",
   "nbconvert_exporter": "python",
   "pygments_lexer": "ipython2",
   "version": "2.7.13"
  },
  "toc": {
   "colors": {
    "hover_highlight": "#DAA520",
    "running_highlight": "#FF0000",
    "selected_highlight": "#FFD700"
   },
   "moveMenuLeft": true,
   "navigate_menu": false,
   "number_sections": true,
   "sideBar": false,
   "threshold": 4,
   "toc_cell": true,
   "toc_section_display": "block",
   "toc_window_display": false,
   "widenNotebook": false
  }
 },
 "nbformat": 4,
 "nbformat_minor": 2
}
