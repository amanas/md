{
 "cells": [
  {
   "cell_type": "markdown",
   "metadata": {
    "toc": "true"
   },
   "source": [
    "# Table of Contents\n",
    " <p><div class=\"lev1 toc-item\"><a href=\"#Resumen-teórico\" data-toc-modified-id=\"Resumen-teórico-1\"><span class=\"toc-item-num\">1&nbsp;&nbsp;</span>Resumen teórico</a></div><div class=\"lev2 toc-item\"><a href=\"#Definición-formal\" data-toc-modified-id=\"Definición-formal-11\"><span class=\"toc-item-num\">1.1&nbsp;&nbsp;</span>Definición formal</a></div><div class=\"lev2 toc-item\"><a href=\"#Funciones-kernel\" data-toc-modified-id=\"Funciones-kernel-12\"><span class=\"toc-item-num\">1.2&nbsp;&nbsp;</span>Funciones kernel</a></div><div class=\"lev2 toc-item\"><a href=\"#Outliers\" data-toc-modified-id=\"Outliers-13\"><span class=\"toc-item-num\">1.3&nbsp;&nbsp;</span>Outliers</a></div><div class=\"lev2 toc-item\"><a href=\"#Preprocesado-de-datos\" data-toc-modified-id=\"Preprocesado-de-datos-14\"><span class=\"toc-item-num\">1.4&nbsp;&nbsp;</span>Preprocesado de datos</a></div><div class=\"lev3 toc-item\"><a href=\"#Atributos-categóricos\" data-toc-modified-id=\"Atributos-categóricos-141\"><span class=\"toc-item-num\">1.4.1&nbsp;&nbsp;</span>Atributos categóricos</a></div><div class=\"lev3 toc-item\"><a href=\"#Escalado\" data-toc-modified-id=\"Escalado-142\"><span class=\"toc-item-num\">1.4.2&nbsp;&nbsp;</span>Escalado</a></div><div class=\"lev2 toc-item\"><a href=\"#Selección-del-modelo\" data-toc-modified-id=\"Selección-del-modelo-15\"><span class=\"toc-item-num\">1.5&nbsp;&nbsp;</span>Selección del modelo</a></div><div class=\"lev2 toc-item\"><a href=\"#Cross-validation\" data-toc-modified-id=\"Cross-validation-16\"><span class=\"toc-item-num\">1.6&nbsp;&nbsp;</span>Cross-validation</a></div><div class=\"lev1 toc-item\"><a href=\"#Notas-a-la-implementación\" data-toc-modified-id=\"Notas-a-la-implementación-2\"><span class=\"toc-item-num\">2&nbsp;&nbsp;</span>Notas a la implementación</a></div><div class=\"lev1 toc-item\"><a href=\"#Análisis-del-fichero-s\" data-toc-modified-id=\"Análisis-del-fichero-s-3\"><span class=\"toc-item-num\">3&nbsp;&nbsp;</span>Análisis del fichero s</a></div><div class=\"lev2 toc-item\"><a href=\"#Cargar-los-ficheros-s-train/test\" data-toc-modified-id=\"Cargar-los-ficheros-s-train/test-31\"><span class=\"toc-item-num\">3.1&nbsp;&nbsp;</span>Cargar los ficheros s-train/test</a></div><div class=\"lev2 toc-item\"><a href=\"#Función-de-normalización\" data-toc-modified-id=\"Función-de-normalización-32\"><span class=\"toc-item-num\">3.2&nbsp;&nbsp;</span>Función de normalización</a></div><div class=\"lev2 toc-item\"><a href=\"#Seleccionar-las-3-clases-más-frecuentes\" data-toc-modified-id=\"Seleccionar-las-3-clases-más-frecuentes-33\"><span class=\"toc-item-num\">3.3&nbsp;&nbsp;</span>Seleccionar las 3 clases más frecuentes</a></div><div class=\"lev2 toc-item\"><a href=\"#Obtención-de-un-clasificador-MVS-lineal-en-el-espacio-de-parámetros\" data-toc-modified-id=\"Obtención-de-un-clasificador-MVS-lineal-en-el-espacio-de-parámetros-34\"><span class=\"toc-item-num\">3.4&nbsp;&nbsp;</span>Obtención de un clasificador MVS lineal en el espacio de parámetros</a></div><div class=\"lev2 toc-item\"><a href=\"#Realizar-una-búsqueda-similar-para-núcleos-polinómicos-de-grado-2\" data-toc-modified-id=\"Realizar-una-búsqueda-similar-para-núcleos-polinómicos-de-grado-2-35\"><span class=\"toc-item-num\">3.5&nbsp;&nbsp;</span>Realizar una búsqueda similar para núcleos polinómicos de grado 2</a></div><div class=\"lev2 toc-item\"><a href=\"#Obtención-de-un-clasificador-MVS-lineal-en-el-espacio-proyectado-mediante-un-núcleo-gaussiano\" data-toc-modified-id=\"Obtención-de-un-clasificador-MVS-lineal-en-el-espacio-proyectado-mediante-un-núcleo-gaussiano-36\"><span class=\"toc-item-num\">3.6&nbsp;&nbsp;</span>Obtención de un clasificador MVS lineal en el espacio proyectado mediante un núcleo gaussiano</a></div><div class=\"lev1 toc-item\"><a href=\"#Probar-distintos-tipos-de-nucleos-con-un-problema-no-separable-linealmente\" data-toc-modified-id=\"Probar-distintos-tipos-de-nucleos-con-un-problema-no-separable-linealmente-4\"><span class=\"toc-item-num\">4&nbsp;&nbsp;</span>Probar distintos tipos de nucleos con un problema no separable linealmente</a></div><div class=\"lev2 toc-item\"><a href=\"#Gausianas-con-escaso-solape---separables-linealmente\" data-toc-modified-id=\"Gausianas-con-escaso-solape---separables-linealmente-41\"><span class=\"toc-item-num\">4.1&nbsp;&nbsp;</span>Gausianas con escaso solape - separables linealmente</a></div><div class=\"lev2 toc-item\"><a href=\"#Gausianas-fuertemente-solapadas---no-separables\" data-toc-modified-id=\"Gausianas-fuertemente-solapadas---no-separables-42\"><span class=\"toc-item-num\">4.2&nbsp;&nbsp;</span>Gausianas fuertemente solapadas - no separables</a></div><div class=\"lev2 toc-item\"><a href=\"#Gausianas-separables-polinómicamente\" data-toc-modified-id=\"Gausianas-separables-polinómicamente-43\"><span class=\"toc-item-num\">4.3&nbsp;&nbsp;</span>Gausianas separables polinómicamente</a></div><div class=\"lev1 toc-item\"><a href=\"#Utilizar-el-resto-de-conjuntos-y-discutir-los-resultados\" data-toc-modified-id=\"Utilizar-el-resto-de-conjuntos-y-discutir-los-resultados-5\"><span class=\"toc-item-num\">5&nbsp;&nbsp;</span>Utilizar el resto de conjuntos y discutir los resultados</a></div><div class=\"lev2 toc-item\"><a href=\"#Conjunto-c\" data-toc-modified-id=\"Conjunto-c-51\"><span class=\"toc-item-num\">5.1&nbsp;&nbsp;</span>Conjunto c</a></div><div class=\"lev2 toc-item\"><a href=\"#Conjunto-p\" data-toc-modified-id=\"Conjunto-p-52\"><span class=\"toc-item-num\">5.2&nbsp;&nbsp;</span>Conjunto p</a></div><div class=\"lev2 toc-item\"><a href=\"#Conjunto-v\" data-toc-modified-id=\"Conjunto-v-53\"><span class=\"toc-item-num\">5.3&nbsp;&nbsp;</span>Conjunto v</a></div><div class=\"lev2 toc-item\"><a href=\"#Conjunto-h\" data-toc-modified-id=\"Conjunto-h-54\"><span class=\"toc-item-num\">5.4&nbsp;&nbsp;</span>Conjunto h</a></div><div class=\"lev2 toc-item\"><a href=\"#Conjunto-z\" data-toc-modified-id=\"Conjunto-z-55\"><span class=\"toc-item-num\">5.5&nbsp;&nbsp;</span>Conjunto z</a></div><div class=\"lev2 toc-item\"><a href=\"#Análisis-de-resultados-en-los-conjuntos-c,-p,-v,-h-y-z\" data-toc-modified-id=\"Análisis-de-resultados-en-los-conjuntos-c,-p,-v,-h-y-z-56\"><span class=\"toc-item-num\">5.6&nbsp;&nbsp;</span>Análisis de resultados en los conjuntos c, p, v, h y z</a></div><div class=\"lev1 toc-item\"><a href=\"#Referencias\" data-toc-modified-id=\"Referencias-6\"><span class=\"toc-item-num\">6&nbsp;&nbsp;</span>Referencias</a></div>"
   ]
  },
  {
   "cell_type": "markdown",
   "metadata": {},
   "source": [
    "# Resumen teórico\n",
    "\n",
    "Las máquinas de soporte vectorial son un tipo de algoritmos utilizados principalmente para clasificación y para regresión desarollados por Vladimir Vapnik y su equipo [1].\n",
    "\n",
    "Las máquinas de soporte vectorial funcionan generando un hiperplano que separa el espacio de muestras de forma que, idealmente, patrones de diferentes clases nunca aparezcan en el mismo lado del plano. Como existen infinitos hiperplanos que separen el espacio, se busca aquel cuya distancia entre el hiperplano y los patrones de cada clase sea la máxima posible (ver Figura 1). A los puntos que conforman las dos líneas paralelas al hiperplano, siendo la distancia entre ellas (margen) la mayor posible, se les denomina vectores de soporte. En la fase de entrenamiento de las máquinas de soporte vectorial, nos centraremos en hallar los vectores de soporte empleando técnicas de programación cuadrática [3].\n",
    "\n",
    "Una vez obtenemos el hiperplano podemos utilizar la Máquina en problemas de clasificación, escogiendo patrones que no hayan sido vistos durante la fase de entrenamiento, y aplicando una etiqueta (clase) en función del lado del hiperplano en el que se proyecten.\n",
    "\n",
    "![Figura 1: Ejemplo de 2 dimensiones para una máquina de soporte vectorial, obsérvese que la recta roja es la que maximiza la distancia entre los vectores de soporte (los puntos en amarillo)](esquema-basico-svm.PNG)\n",
    "\n",
    "\n",
    "Los universos a estudiar no se suelen presentar en casos idílicos de dos dimensiones como en el ejemplo anterior, sino que un algoritmo SVM debe tratar con:\n",
    "\n",
    "- Más de dos variables predictoras\n",
    "- Curvas no lineales de separación\n",
    "- Casos donde los conjuntos de datos no pueden ser completamente separados\n",
    "- Clasificaciones en más de dos categorías\n",
    "\n",
    "![Figura 2: Espacio de 2 dimensiones en el que los patrones no son separables linealmente](no-separable-linealmente.PNG)\n",
    "\n",
    "\n",
    "## Definición formal\n",
    "\n",
    "> Dado un conjunto de entrenamiento formado por pares de instancias y etiquetas\n",
    "$$(x_i,y_i),  i=1, . . . , l \\text{ donde } x_i \\in R^n, y \\in \\{1, −1\\}^l$$\n",
    ", las SVMs pueden entenderse como la solución al siguiente problema de optimización::\n",
    "$$\n",
    "\\begin{aligned}\n",
    "\\underset{w,b,\\epsilon}{\\operatorname{argmin}} & & \\frac{1}{2}w^Tw + C\n",
    "\\sum_1^l{\\epsilon_i} \\\\\n",
    "\\text{sujeto a} & & y_i(w^T \\phi(x_i) + b) \\ge 1- \\epsilon_i \\\\\n",
    " & & \\epsilon_i \\ge 0\n",
    "\\end{aligned}\n",
    "$$\n",
    "Además, \n",
    "$$K(x_i, x_j ) ≡ \\phi(x_i)^T \\phi(x_j)$$\n",
    "es llamada la función kernel.\n",
    "\n",
    "*Figura 3. Definición formal de las SVMs según [4]*\n",
    "\n",
    "Los vectores de entrenamiento $x_i$ son asignados a un espacio de mayor dimensiones (incluso infinitas) por la función $\\phi$. La máquina de soporte vectorial encuentra el hiperplano con máximo margen de separación en el espacio dimensional superior. C > 0 es el parámetro de penalización del término de error.\n",
    "\n",
    "## Funciones kernel\n",
    "\n",
    "Cuando el espacio donde trabajamos no permite separar linealmente los patrones de forma perfecta, como se puede observar en la figura 2, es imposible trazar un hiperplano que separe perfectamente los patrones. \n",
    "\n",
    "Por ello entran en juego las llamadas **funciones kernel**, funciones matemáticas que nos permiten proyectar los patrones en un espacio de mayor dimensión que el original dónde estos si son linealmente separables mediante un hiperplano (Figura 3). \n",
    "\n",
    "![Figura 4: Kernel de 2 a 3 dimensiones dónde los patrones pueden ser perfectamente separados mediante un hiperplano](ejemplo-kernel.PNG)\n",
    "\n",
    "\n",
    "De nuevo, y como en la gran mayoría de algoritmos de aprendizaje máquina, **si elegimos un modelo (en este caso una función kernel) que se ajuste demasiado bien a los patrones de entrenamiento**, el clasificador perderá capacidad de generalización por lo que tendrá un mal comportamiento ante nuevos patrones y se hablará de **sobreentrenamiento**.\n",
    "\n",
    "Las funciones kernel más comunmente utilizadas son:\n",
    "\n",
    "- **lineales**: $ K(x_i,x_j) = x_i^T x_j $\n",
    "- **polinómicas**: $ K(x_i,x_j) = (\\gamma x_i^T x_j +r)^d, \\gamma \\ge 0 $\n",
    "- **funciones de base radial (RBF)**: $ K(x_i,x_j) = exp(-\\gamma \\lvert x_i - x_j \\lvert ^2), \\gamma \\ge 0$\n",
    "- **sigmoide**: $ K(x_i,x_j) = \\tanh(\\gamma x_i^T x_j +r) $\n",
    "\n",
    "\n",
    "## Outliers\n",
    "\n",
    "No siempre es posible encontrar una transformación de los datos que permita separarlos linealmente [2] o incluso a veces, no es conveniente.\n",
    "\n",
    "En este caso nos encontramos con instancias en el conjunto de entrenamiento que se situan en lugares del espacio muy separados o aislados de la zona dónde se sitúan la mayoría de instancias de entrenamiento con las que comparten la clase.\n",
    "\n",
    "La presencia de ruido o de **outliers** pueden llegar tambien a provocar soluciones sobreajustadas a los patrones de entrenamiento que no generalizan bien. Para tratar con estas situaciones se crearon los llamados **SVM de margen blando** cuya idea principal es introducir una holgura al margen existente entre los vectores de soporte y el hiperplano que permite que las restricciones no se cumplan de manera estricta. \n",
    "\n",
    "Se introduce por tanto en el proceso de entrenamiento una constante **C** que controlará el tamaño de la holgura.\n",
    "\n",
    "**El parámetro C le indica a la SVM, en el proceso de entrenamiento, el grado de ejemplos mal clasificados permitido.** \n",
    "\n",
    "Para valores grandes de C, la optimización elegirá un hiperplano de margen más pequeño si ese hiperplano hace un mejor trabajo para conseguir que todos los puntos de entrenamiento estén clasificados correctamente. Es decir, se evitan en mayor medida ejemplos mal clasificados aunque ello conduzca a hiperplanos de margen menor.\n",
    "\n",
    "Por el contrario, un valor muy pequeño de C hará que el optimizador busque un hiperplano de separación de mayor margen, incluso si ese hiperplano clasifica erróneamente más puntos. Para valores muy pequeños de C frecuentemente se obtienen ejemplos mal clasificados,  incluso si los datos de entrenamiento son linealmente separables. Sin embargo, el sobreajuste del clasificador es menor y generalmente se obtienen clasificadores que generalizan mejor.\n",
    "\n",
    "## Preprocesado de datos\n",
    "\n",
    "Se suele realizar a dos niveles [4]:\n",
    "\n",
    "### Atributos categóricos\n",
    "\n",
    "Las SVMs requieren que cada instancia de datos se represente como un vector de números reales. Por lo tanto, si hay atributos categóricos, primero tenemos que convertirlos en datos numéricos. Se recomienda utilizar m números para representar un atributo con m categorías. Solamente uno de los m números es uno, y los otros son cero. Por ejemplo, una categoría de tres atributos como {rojo, verde, azul} puede representarse como (0,0,1), (0,1,0) y (1,0,0).\n",
    "\n",
    "La experiencia indica que si el número de valores en un atributo no es demasiado grande, esta codificación puede ser más estable que usar un solo número.\n",
    "\n",
    "### Escalado\n",
    "\n",
    "**Escalar los datos antes de aplicar las SVMs es muy importante.** La mayoría de las consideraciones hechas para redes neuronales también se aplican a las SVMs. \n",
    "\n",
    "La principal ventaja de escalar es evitar que atributos cuyos valores se mueven en rangos numéricos altos dominen a aquellos que se mueven en rangos numéricos más pequeños. Otra ventaja es evitar dificultades numéricas durante el cálculo, dado que los valores del kernel normalmente dependen de los productos internos de vectores de características, p. \n",
    "\n",
    "Se recomienda un escalado lineal de cada atributo al rango [-1, +1] o [0, 1]. Por supuesto, hay usar el mismo método para escalar el los datos de entrenamiento y los de prueba.\n",
    "\n",
    "## Selección del modelo\n",
    "\n",
    "Aunque sólo son cuatro las funciones kernel más comunes, se debe decidir una para entrenar la SVM. Una vez elegido el núcleo, se ajustan los parámetros de penalización C y los parámetros propios del kernel elegido.\n",
    "\n",
    "**Según [4], en general, el núcleo RBF es una primera opción razonable.** \n",
    "\n",
    "Este kernel no correlaciona las muestras en un espacio dimensional superior, a diferencia del núcleo lineal, con lo que se puede manejar el caso cuando la relación entre las etiquetas y los atributos no es lineal. Además, el núcleo lineal es un caso especial de RBF.\n",
    "\n",
    "La segunda razón es el número de hiperparámetros que influyen en la complejidad de la selección del modelo. El núcleo polinomial tiene más hiperparametros que el núcleo RBF.\n",
    "\n",
    "Por último, el núcleo RBF tiene menos dificultades numéricas ya que el resultado  de aplicar la función kernel es siempre menor que 1.\n",
    "\n",
    "Hay algunas situaciones en las que el núcleo RBF no es adecuado. En particular, cuando el número de características es muy grande, se puede utilizar el núcleo lineal.\n",
    "\n",
    "## Cross-validation\n",
    "\n",
    "Aprender los parámetros de un modelo y probarlo en los mismos datos es un error metodológico: un modelo que simplemente repitiera las etiquetas de las muestras que acaba de ver tendría una puntuación perfecta pero no podría predecir nada útil en otros datos no vistos. Esta situación se conoce como **sobreajuste**. Para evitarlo, es una práctica común cuando se realiza un experimento de aprendizaje (supervisado) mantener una parte de los datos disponibles como un conjunto de pruebas.\n",
    "\n",
    "Una solución a este problema es un procedimiento llamado **validación cruzada** (CV para abreviar). Se guarda un conjunto de prueba para la evaluación final, que no se utiliza en ningún caso en el proceso de entrenamiento. En el enfoque básico, llamado **k-fold CV**, el conjunto de entrenamiento se divide en k conjuntos más pequeños. Se sigue el siguiente procedimiento para cada uno de los k \"bloques\", en diversas iteraciones:\n",
    "\n",
    "- El modelo es entrenado usando k-1 de los bloques\n",
    "- El modelo resultante se valida en el bloque restante no utilizado en esta iteración del entrenamiento\n",
    "- Este proceso se repite k veces (una para utilizando cada bloque como prueba)\n",
    "\n",
    "Típicamente, la medida de rendimiento reportada por la validación cruzada k-fold es el promedio de los valores calculados en las k iteraciones. Este enfoque puede ser costoso desde el punto de vista computacional, pero garantiza que los datos iniciales de prueba realmente se utilizan sólo para las pruebas y que el entrenamiento puede ser más productivo.\n",
    "\n",
    "\n",
    "# Notas a la implementación\n",
    "\n",
    "En el enunciado de la práctica se hace mención explícita a WEKA y a Torch.\n",
    "\n",
    "Sin embargo, entiendo que el lenguaje o la herramienta con la que resuelvan las prácticas es libre y las referencias a WEKA es simplemente por tener una herramienta por defecto para quien no tenga otras preferencias.\n",
    "\n",
    "En este sentido, y espero no estar cometiendo un error, me tomo la libertad de desarrollar esta práctica con python utilizando scikit-learn como librería de machine-learning.\n",
    "\n",
    "# Análisis del fichero s\n",
    "\n",
    "## Cargar los ficheros s-train/test"
   ]
  },
  {
   "cell_type": "code",
   "execution_count": 59,
   "metadata": {
    "collapsed": false,
    "scrolled": false
   },
   "outputs": [],
   "source": [
    "from scipy.io.arff import loadarff\n",
    "\n",
    "S_train,S_meta = loadarff('svm-data/s-train.arff')\n",
    "S_test,_       = loadarff('svm-data/s-test.arff')"
   ]
  },
  {
   "cell_type": "markdown",
   "metadata": {},
   "source": [
    "## Función de normalización\n",
    "\n",
    "Tal como se ha indicado en la parte teórica de la práctica, es fundamental normalizar los datos para obtener un correcto funcionamiento de las SVM's, y por extensión de casi cualquier algoritmo de minería de datos.\n",
    "\n",
    "Aquí tenemos una función que nos hace todo el trabajo - **nótese que normalizamos simultáneamente los datos de entrenamiento y de prueba**. Sabemos que no aplicar el mismo tipo de normalización a los datos con los que se prueba un modelo que a aquellos con los que se entrena es tanto como probar el modelo con datos de otro dominio del que estudia."
   ]
  },
  {
   "cell_type": "code",
   "execution_count": 60,
   "metadata": {
    "collapsed": false
   },
   "outputs": [],
   "source": [
    "from sklearn.preprocessing import normalize\n",
    "\n",
    "def normalize_data(train, test):\n",
    "    \"\"\"Normaliza los datos de entrenamiento y prueba\n",
    "    y los devuelve como una tupla:\n",
    "    X_train,y_train,X_test,y_test\n",
    "    \"\"\"\n",
    "    data = np.append(train, test)\n",
    "    X = normalize([list(d)[0:-1] for d in data], axis=0)\n",
    "    y = [list(d)[-1] for d in data]\n",
    "    l = len(train)\n",
    "    return X[:l],y[:l],X[l:],y[l:]"
   ]
  },
  {
   "cell_type": "markdown",
   "metadata": {},
   "source": [
    "## Seleccionar las 3 clases más frecuentes"
   ]
  },
  {
   "cell_type": "code",
   "execution_count": 61,
   "metadata": {
    "collapsed": false,
    "scrolled": false
   },
   "outputs": [
    {
     "name": "stdout",
     "output_type": "stream",
     "text": [
      "Top 3 classes: ['46', '20', '110']\n"
     ]
    }
   ],
   "source": [
    "import numpy as np\n",
    "\n",
    "\n",
    "def top_three_categories(train,test):\n",
    "    classes = np.concatenate((train['class'],test['class']))\n",
    "    class_counts = dict(zip(*np.unique(classes,return_counts=True)))\n",
    "    top_three = sorted(class_counts, key=class_counts.get, reverse=True)[0:3]\n",
    "    print 'Top 3 classes: %s' % top_three\n",
    "    return train[np.in1d(train['class'], top_three)],test[np.in1d(test['class'], top_three)]\n",
    "\n",
    "S_top3_train,S_top3_test = top_three_categories(S_train,S_test)"
   ]
  },
  {
   "cell_type": "markdown",
   "metadata": {},
   "source": [
    "## Obtención de un clasificador MVS lineal en el espacio de parámetros\n",
    "\n",
    "Vamos a realizar una búsqueda en el espacio de parámetros para seleccionar el que produce mejores resultados\n",
    "evaluados mediante validación cruzada. \n",
    "\n",
    "Según las indicacione de la práctica, probaremos unos 20 valores de **C entre 0.001 y 10**. Pero en lugar de utilizarlos equiespaciados en escala lineal, creo que será más productivo (ofrecerá mejor ámbito exploratorio) si los **equiespaciamos en escala logarítmica**."
   ]
  },
  {
   "cell_type": "code",
   "execution_count": 62,
   "metadata": {
    "collapsed": false
   },
   "outputs": [
    {
     "name": "stdout",
     "output_type": "stream",
     "text": [
      "Cs: [0.001 0.002 0.003 0.004 0.007 0.011 0.018 0.030 0.048 0.078 0.127 0.207\n",
      " 0.336 0.546 0.886 1.438 2.336 3.793 6.158 10.000]\n"
     ]
    }
   ],
   "source": [
    "from sklearn.model_selection import GridSearchCV\n",
    "np.set_printoptions(formatter={'float': lambda x: \"{0:0.3f}\".format(x)})\n",
    "    \n",
    "N = 20\n",
    "Cs = np.logspace(-3, 1, N)\n",
    "print 'Cs: %s' % Cs"
   ]
  },
  {
   "cell_type": "markdown",
   "metadata": {},
   "source": [
    "Vamos a utilizar además una búsqueda exhaustiva en el conjunto de Cs anterior con la clase **GridSearchCV**. \n",
    "\n",
    "**Esta función realiza automáticamente el entrenamiento con cross-validation.** Por defecto utiliza 3 folds, y por defecto lo dejo, ya que probando con otros no se obtienen resultados mucho mejores.\n",
    "\n",
    "Después, obtendremos la información que necesitamos simplemente llamando a los miembros:\n",
    "\n",
    "- **best\\_estimator\\_** : el modelo que ofreció los mejores resultados de todos los probados\n",
    "- **best\\_score\\_** : la puntuación del mejor modelo indicado en el punto anterior"
   ]
  },
  {
   "cell_type": "code",
   "execution_count": 63,
   "metadata": {
    "collapsed": false
   },
   "outputs": [
    {
     "name": "stdout",
     "output_type": "stream",
     "text": [
      "Mejor C: 10.0\n",
      "Puntuación del mejor modelo: 0.835616438356\n"
     ]
    }
   ],
   "source": [
    "from sklearn import svm\n",
    "from sklearn.model_selection import GridSearchCV\n",
    "\n",
    "X_train,y_train,X_test,y_test = normalize_data(S_top3_train,S_top3_test)\n",
    "gscv = GridSearchCV(estimator=svm.SVC(kernel='linear'), \n",
    "                    param_grid=dict(C=Cs), n_jobs=-1)\n",
    "gscv.fit(X_train, y_train)\n",
    "\n",
    "print 'Mejor C: %s' % gscv.best_estimator_.C\n",
    "print 'Puntuación del mejor modelo: %s' % gscv.best_score_"
   ]
  },
  {
   "cell_type": "markdown",
   "metadata": {},
   "source": [
    "Como el mejor C enontrado se corresponde con el extremo derecho de los probados en nuestro **grid**, vamos a aumentar el intervalo de prueba por la derecha:"
   ]
  },
  {
   "cell_type": "code",
   "execution_count": 64,
   "metadata": {
    "collapsed": false
   },
   "outputs": [
    {
     "name": "stdout",
     "output_type": "stream",
     "text": [
      "Cs: [10.000 12.743 16.238 20.691 26.367 33.598 42.813 54.556 69.519 88.587\n",
      " 112.884 143.845 183.298 233.572 297.635 379.269 483.293 615.848 784.760\n",
      " 1000.000]\n",
      "Mejor C: 183.298071083\n",
      "Puntuación del mejor modelo: 0.90756302521\n"
     ]
    }
   ],
   "source": [
    "Cs = np.logspace(1, 3, N)\n",
    "print \"Cs: %s\" % Cs\n",
    "\n",
    "gscv = GridSearchCV(estimator=svm.SVC(kernel='linear'), \n",
    "                   param_grid=dict(C=Cs), n_jobs=-1)\n",
    "gscv.fit(X_train, y_train)\n",
    "print 'Mejor C: %s' % gscv.best_estimator_.C\n",
    "print 'Puntuación del mejor modelo: %s' % gscv.best_estimator_.score(X_test, y_test)"
   ]
  },
  {
   "cell_type": "markdown",
   "metadata": {},
   "source": [
    "Aunque el rendimiento de esta SVM es bastante bueno (90%), resulta bastante incómodo que el valor C sea tan grande. Es decir, el mejor modelo encontrado **es de margen muy rígido**, lo que puede sugerir que el modelo está sobreajustado.\n",
    "\n",
    "Para disipar esta duda, podemos hacer el mismo experimento pero probando con un valor más blando y ver si se obtienen resultados parecidos."
   ]
  },
  {
   "cell_type": "code",
   "execution_count": 65,
   "metadata": {
    "collapsed": false
   },
   "outputs": [
    {
     "name": "stdout",
     "output_type": "stream",
     "text": [
      "Puntuación del modelo con C=0.1: 0.36974789916\n"
     ]
    }
   ],
   "source": [
    "gscv = GridSearchCV(estimator=svm.SVC(kernel='linear'), \n",
    "                   param_grid=dict(C=[0.1]), n_jobs=-1)\n",
    "gscv.fit(X_train, y_train)\n",
    "print 'Puntuación del modelo con C=0.1: %s' % gscv.best_estimator_.score(X_test, y_test)"
   ]
  },
  {
   "cell_type": "markdown",
   "metadata": {},
   "source": [
    "**Aunque hemos encontrado una máquina que ofrece unos resultados de clasificación en torno al 0.90%, el parámetro de penalización de los errores de clasificación de la misma es altísimo, C=183. Sin embargo, probando coma un valor C=0.1 más pequeño, vemos que el rendimiento de la máquina obtenida es muy pequeño. Por lo tanto, entiendo que esto nos invita a pensar que el problema NO es linealmente separable.** Sería linealmente separable si obtuviéramos buenos resultados de clasificación con una máquina de margen blando (C próximo a 0)."
   ]
  },
  {
   "cell_type": "markdown",
   "metadata": {},
   "source": [
    "## Realizar una búsqueda similar para núcleos polinómicos de grado 2\n",
    "\n",
    "Procedemos de forma similar al punto anterior, pero en este caso utilizando una función kernel de tipo polinómica."
   ]
  },
  {
   "cell_type": "code",
   "execution_count": 76,
   "metadata": {
    "collapsed": false
   },
   "outputs": [
    {
     "name": "stdout",
     "output_type": "stream",
     "text": [
      "Con grado 1\n",
      "Mejor C: 10.0\n",
      "Mejor gamma: 10.0\n",
      "Puntuación del mejor modelo: 0.890756302521\n",
      "Con grado 2\n",
      "Mejor C: 10.0\n",
      "Mejor gamma: 10.0\n",
      "Puntuación del mejor modelo: 0.90756302521\n",
      "Con grado 3\n",
      "Mejor C: 3.79269019073\n",
      "Mejor gamma: 10.0\n",
      "Puntuación del mejor modelo: 0.915966386555\n",
      "Con grado 4\n",
      "Mejor C: 3.79269019073\n",
      "Mejor gamma: 10.0\n",
      "Puntuación del mejor modelo: 0.90756302521\n"
     ]
    }
   ],
   "source": [
    "N = 20\n",
    "Cs = np.logspace(-3, 1, N)\n",
    "Gs = np.logspace(-3, 1, N)\n",
    "\n",
    "for n in range(1,5):  # Probamos hasta grado 5\n",
    "    gscv = GridSearchCV(estimator=svm.SVC(kernel='poly', degree=n), \n",
    "                        param_grid=dict(C=Cs,gamma=Gs), n_jobs=-1)\n",
    "    gscv.fit(X_train, y_train)\n",
    "    print 'Con grado %s' % n\n",
    "    print 'Mejor C: %s' % gscv.best_estimator_.C\n",
    "    print 'Mejor gamma: %s' % gscv.best_estimator_.gamma\n",
    "    print 'Puntuación del mejor modelo: %s' % gscv.best_estimator_.score(X_test, y_test)"
   ]
  },
  {
   "cell_type": "markdown",
   "metadata": {},
   "source": [
    "Vemos que obtenemos una máquina capaz de clasificar el 91% de las instancias con un C=3.79, es decir, de margen blando.\n",
    "\n",
    "## Obtención de un clasificador MVS lineal en el espacio proyectado mediante un núcleo gaussiano\n",
    "\n",
    "Repetimos los pasos del apartado anterior incluyendo en la ventana de parámetros explorados dos entradas, una para el parámetro C y otra para G (gamma) del núcleo gaussiano o de base radial. "
   ]
  },
  {
   "cell_type": "code",
   "execution_count": 77,
   "metadata": {
    "collapsed": false
   },
   "outputs": [
    {
     "name": "stdout",
     "output_type": "stream",
     "text": [
      "Mejor C: 3.79269019073\n",
      "Mejor gamma: 3.79269019073\n",
      "Puntuación del mejor modelo: 0.873949579832\n"
     ]
    }
   ],
   "source": [
    "N = 20\n",
    "Cs = np.logspace(-3, 1, N)\n",
    "Gs = np.logspace(-3, 1, N)\n",
    "gscv = GridSearchCV(estimator=svm.SVC(kernel='rbf'), \n",
    "                    param_grid=dict(C=Cs, gamma=Gs), n_jobs=-1)\n",
    "gscv.fit(X_train, y_train)\n",
    "print 'Mejor C: %s' % gscv.best_estimator_.C\n",
    "print 'Mejor gamma: %s' % gscv.best_estimator_.gamma\n",
    "print 'Puntuación del mejor modelo: %s' % gscv.best_estimator_.score(X_test, y_test)"
   ]
  },
  {
   "cell_type": "markdown",
   "metadata": {},
   "source": [
    "En este caso observamos que aunque el scoring obtenido por el mejor modelo encontrado es similar al mejor encontrado en el caso anterior, el parámetro gamma es inferior. Entiendo que podemos pensar que para este conjunto de datos, SVMs basadas en núcleos gausianos son más apropiadas."
   ]
  },
  {
   "cell_type": "markdown",
   "metadata": {},
   "source": [
    "# Probar distintos tipos de nucleos con un problema no separable linealmente\n",
    "\n",
    "Definimos unas funciones que nos permita dibujar los datos y las curvas de decisión de los clasificadores obtenidos en cada experimento."
   ]
  },
  {
   "cell_type": "code",
   "execution_count": 78,
   "metadata": {
    "collapsed": false
   },
   "outputs": [],
   "source": [
    "%matplotlib inline \n",
    "from matplotlib import pyplot as plt\n",
    "\n",
    "def plot_data(data):\n",
    "    plt.figure(figsize=(6, 4))\n",
    "    trues = data[data[:,2] == True]\n",
    "    plt.plot(trues[:,0], trues[:,1], 'bo', markersize=2)\n",
    "    falses = data[data[:,2] == False]\n",
    "    plt.plot(falses[:,0], falses[:,1], 'ro', markersize=2)\n",
    "    plt.show()\n",
    "    \n",
    "def plot_decision_function(clf, X, y):\n",
    "    h = .1  # step size in the mesh\n",
    "    x_min, x_max = X[:, 0].min() - 1, X[:, 0].max() + 1\n",
    "    y_min, y_max = X[:, 1].min() - 1, X[:, 1].max() + 1\n",
    "    xx, yy = np.meshgrid(np.arange(x_min, x_max, h), \n",
    "                         np.arange(y_min, y_max, h))\n",
    "    Z = clf.predict(np.c_[xx.ravel(), yy.ravel()])\n",
    "    Z = Z.reshape(xx.shape)\n",
    "    \n",
    "    plt.figure(figsize=(6, 4))\n",
    "    plt.pcolormesh(xx, yy, Z, cmap=plt.cm.Paired)\n",
    "    plt.title('Funcion de decision del modelo')\n",
    "    plt.axis('tight')\n",
    "    plt.show()"
   ]
  },
  {
   "cell_type": "markdown",
   "metadata": {},
   "source": [
    "## Gausianas con escaso solape - separables linealmente\n",
    "\n",
    "Utilizo dos distribuciones gausianas de 2 dimensione con medias bien distintas."
   ]
  },
  {
   "cell_type": "code",
   "execution_count": 79,
   "metadata": {
    "collapsed": false
   },
   "outputs": [
    {
     "data": {
      "image/png": "[encoded data removed]",
      "text/plain": [
       "<matplotlib.figure.Figure at 0x7f27ecb6f990>"
      ]
     },
     "metadata": {},
     "output_type": "display_data"
    }
   ],
   "source": [
    "x = [[a,b,0] for a,b in np.random.normal(loc=-2, size=(1000,2))]\n",
    "y = [[a,b,1] for a,b in np.random.normal(loc=2, size=(1000,2))]\n",
    "data = np.concatenate([x,y])\n",
    "np.random.shuffle(data)\n",
    "X_train, y_train = data[:1500,:-1], data[:1500,-1] \n",
    "X_test, y_test = data[1500:,:-1], data[1500:,-1]\n",
    "plot_data(data)"
   ]
  },
  {
   "cell_type": "markdown",
   "metadata": {},
   "source": [
    "Gráficamente sé ve que este ejemplo sí es linealmente separable. Vamos a confirmarlo encontrando una SVM con un buen rendimiento:"
   ]
  },
  {
   "cell_type": "code",
   "execution_count": 80,
   "metadata": {
    "collapsed": false
   },
   "outputs": [
    {
     "name": "stdout",
     "output_type": "stream",
     "text": [
      "Model C: 1.0\n",
      "Model score: 1.0\n"
     ]
    },
    {
     "data": {
      "image/png": "[encoded data removed]",
      "text/plain": [
       "<matplotlib.figure.Figure at 0x7f27a8c08f90>"
      ]
     },
     "metadata": {},
     "output_type": "display_data"
    }
   ],
   "source": [
    "model = svm.SVC(kernel='linear').fit(X_train,y_train)\n",
    "print 'Model C: %s' % model.C\n",
    "print 'Model score: %s' % model.score(X_test,y_test)\n",
    "plot_decision_function(model, X_train, y_train)"
   ]
  },
  {
   "cell_type": "markdown",
   "metadata": {},
   "source": [
    "## Gausianas fuertemente solapadas - no separables\n",
    "\n",
    "Utilizo dos distribuciones gausianas de 2 dimensione con medias no muy distintas. "
   ]
  },
  {
   "cell_type": "code",
   "execution_count": 81,
   "metadata": {
    "collapsed": false
   },
   "outputs": [
    {
     "data": {
      "image/png": "[encoded data removed]",
      "text/plain": [
       "<matplotlib.figure.Figure at 0x7f27a8ad8790>"
      ]
     },
     "metadata": {},
     "output_type": "display_data"
    }
   ],
   "source": [
    "x = [[a,b,0] for a,b in np.random.normal(loc=-0.2, size=(1000,2))]\n",
    "y = [[a,b,1] for a,b in np.random.normal(loc=0.2, size=(1000,2))]\n",
    "data = np.concatenate([x,y])\n",
    "np.random.shuffle(data)\n",
    "X_train, y_train = data[:1500,:-1], data[:1500,-1] \n",
    "X_test, y_test = data[1500:,:-1], data[1500:,-1]\n",
    "plot_data(data)"
   ]
  },
  {
   "cell_type": "code",
   "execution_count": 82,
   "metadata": {
    "collapsed": false
   },
   "outputs": [
    {
     "name": "stdout",
     "output_type": "stream",
     "text": [
      "Model C: 1.0\n",
      "Model score: 0.592\n"
     ]
    },
    {
     "data": {
      "image/png": "[encoded data removed]",
      "text/plain": [
       "<matplotlib.figure.Figure at 0x7f27a8ab1f90>"
      ]
     },
     "metadata": {},
     "output_type": "display_data"
    }
   ],
   "source": [
    "model = svm.SVC(kernel='linear').fit(X_train,y_train)\n",
    "print 'Model C: %s' % model.C\n",
    "print 'Model score: %s' % model.score(X_test,y_test)\n",
    "plot_decision_function(model, X_train, y_train)"
   ]
  },
  {
   "cell_type": "markdown",
   "metadata": {},
   "source": [
    "En este caso, el rendimiento del núcleo lineal ya no es bueno. No es de esperar que ningún núcleo obtenga buenos resultados de clasificación.\n",
    "\n",
    "## Gausianas separables polinómicamente"
   ]
  },
  {
   "cell_type": "code",
   "execution_count": 83,
   "metadata": {
    "collapsed": false
   },
   "outputs": [
    {
     "data": {
      "image/png": "[encoded data removed]",
      "text/plain": [
       "<matplotlib.figure.Figure at 0x7f27bff5e1d0>"
      ]
     },
     "metadata": {},
     "output_type": "display_data"
    }
   ],
   "source": [
    "from math import sin\n",
    "data = np.array([[a,b,a**2 + b**2 < 0.5] for a,b \n",
    "                 in np.random.normal(loc=-0.2, size=(2000,2))])\n",
    "X_train, y_train = data[:1500,:-1], data[:1500,-1] \n",
    "X_test, y_test = data[1500:,:-1], data[1500:,-1]\n",
    "plot_data(data)"
   ]
  },
  {
   "cell_type": "markdown",
   "metadata": {},
   "source": [
    "El núcleo lineal parece ofrecer cierto scoring."
   ]
  },
  {
   "cell_type": "code",
   "execution_count": 84,
   "metadata": {
    "collapsed": false
   },
   "outputs": [
    {
     "name": "stdout",
     "output_type": "stream",
     "text": [
      "Model C: 1.0\n",
      "Model score: 0.802\n"
     ]
    },
    {
     "data": {
      "image/png": "[encoded data removed]",
      "text/plain": [
       "<matplotlib.figure.Figure at 0x7f27a8c54510>"
      ]
     },
     "metadata": {},
     "output_type": "display_data"
    }
   ],
   "source": [
    "model = svm.SVC(kernel='linear').fit(X_train,y_train)\n",
    "print 'Model C: %s' % model.C\n",
    "print 'Model score: %s' % model.score(X_test,y_test)\n",
    "plot_decision_function(model, X_train, y_train)"
   ]
  },
  {
   "cell_type": "markdown",
   "metadata": {},
   "source": [
    "Sin embargo, lo que en realidad ocurre es que clasifica todas las intancias a la clase más frecuente en ellas (importante!). Así lo muestra la figura anterior.\n",
    "\n",
    "En este problema, son los núcleos de base radial los que ofrecen el mejor resultado:"
   ]
  },
  {
   "cell_type": "code",
   "execution_count": 85,
   "metadata": {
    "collapsed": false
   },
   "outputs": [
    {
     "name": "stdout",
     "output_type": "stream",
     "text": [
      "Model C: 1.0\n",
      "Model score: 0.994\n"
     ]
    },
    {
     "data": {
      "image/png": "[encoded data removed]",
      "text/plain": [
       "<matplotlib.figure.Figure at 0x7f27a8c59410>"
      ]
     },
     "metadata": {},
     "output_type": "display_data"
    }
   ],
   "source": [
    "model = svm.SVC(kernel='rbf').fit(X_train,y_train)\n",
    "print 'Model C: %s' % model.C\n",
    "print 'Model score: %s' % model.score(X_test,y_test)\n",
    "plot_decision_function(model, X_train, y_train)"
   ]
  },
  {
   "cell_type": "markdown",
   "metadata": {
    "collapsed": true
   },
   "source": [
    "# Utilizar el resto de conjuntos y discutir los resultados\n",
    "\n",
    "Aplico sin más el mismo procedimiento que hemos visto en los puntos anteriores.\n",
    "\n",
    "Para simplificar la tarea, hacemos uso de unas funciones que cargan los datos de cada conjunto y realizan los distintos experimentos."
   ]
  },
  {
   "cell_type": "code",
   "execution_count": 86,
   "metadata": {
    "collapsed": false
   },
   "outputs": [],
   "source": [
    "def prepare_data(name):\n",
    "    train,meta = loadarff('svm-data/%s-train.arff' % name)\n",
    "    test,_     = loadarff('svm-data/%s-test.arff' % name)\n",
    "    top3_train,top3_test = top_three_categories(train,test)    \n",
    "    return normalize_data(top3_train,top3_test)"
   ]
  },
  {
   "cell_type": "markdown",
   "metadata": {
    "collapsed": true
   },
   "source": [
    "Y aplicamos los distintos clasificadores, con los parámetros por defecto para no eternizar la tarea."
   ]
  },
  {
   "cell_type": "code",
   "execution_count": 87,
   "metadata": {
    "collapsed": false
   },
   "outputs": [],
   "source": [
    "def try_different_models(name):\n",
    "        \n",
    "    N = 20\n",
    "    Cs = np.logspace(-3, 1, N)\n",
    "    Gs = np.logspace(-3, 1, N)\n",
    "    X_train,y_train,X_test,y_test = prepare_data(name)\n",
    "    \n",
    "    result = []\n",
    "    gscv = GridSearchCV(estimator=svm.SVC(kernel='linear'), \n",
    "                        param_grid=dict(C=Cs), n_jobs=-1)\n",
    "    gscv.fit(X_train, y_train)\n",
    "    result += [['Lineal', gscv.best_estimator_.C, None,\n",
    "                gscv.best_estimator_.score(X_test, y_test)]]\n",
    "    \n",
    "    for n in range(1,5):\n",
    "        gscv = GridSearchCV(estimator=svm.SVC(kernel='poly', degree=n), \n",
    "                            param_grid=dict(C=Cs, gamma=Gs), n_jobs=-1)\n",
    "        gscv.fit(X_train, y_train)\n",
    "        result += [['Poly (grado %s)' % n, \n",
    "                    gscv.best_estimator_.C, gscv.best_estimator_.gamma,\n",
    "                    gscv.best_estimator_.score(X_test, y_test)]]\n",
    "    \n",
    "    gscv = GridSearchCV(estimator=svm.SVC(kernel='rbf'), \n",
    "                        param_grid=dict(C=Cs, gamma=Gs), n_jobs=-1)\n",
    "    gscv.fit(X_train, y_train)\n",
    "    result += [['RBF', gscv.best_estimator_.C, gscv.best_estimator_.gamma,\n",
    "                gscv.best_estimator_.score(X_test, y_test)]]\n",
    "    \n",
    "    gscv = GridSearchCV(estimator=svm.SVC(kernel='sigmoid'), \n",
    "                        param_grid=dict(C=Cs,gamma=Gs), n_jobs=-1)\n",
    "    gscv.fit(X_train, y_train)\n",
    "    result += [['Sigmoid', gscv.best_estimator_.C, gscv.best_estimator_.gamma,\n",
    "                gscv.best_estimator_.score(X_test, y_test)]]\n",
    "    \n",
    "    return result"
   ]
  },
  {
   "cell_type": "markdown",
   "metadata": {
    "collapsed": true
   },
   "source": [
    "## Conjunto c\n",
    "\n",
    "Definimos además una función que nos permite exportar a latex un dataframe de pandas."
   ]
  },
  {
   "cell_type": "code",
   "execution_count": 91,
   "metadata": {
    "collapsed": true
   },
   "outputs": [],
   "source": [
    "import pandas as pd\n",
    "pd.set_option('display.notebook_repr_html', True)\n",
    "\n",
    "def _repr_latex_(self):\n",
    "    return self.to_latex()\n",
    "\n",
    "pd.DataFrame._repr_latex_ = _repr_latex_"
   ]
  },
  {
   "cell_type": "markdown",
   "metadata": {},
   "source": [
    "Y realizamos el experimento:"
   ]
  },
  {
   "cell_type": "code",
   "execution_count": 94,
   "metadata": {
    "collapsed": false
   },
   "outputs": [
    {
     "data": {
      "text/html": [
       "<div>\n",
       "<table border=\"1\" class=\"dataframe\">\n",
       "  <thead>\n",
       "    <tr style=\"text-align: right;\">\n",
       "      <th></th>\n",
       "      <th>kernel</th>\n",
       "      <th>C</th>\n",
       "      <th>gamma</th>\n",
       "      <th>scoring</th>\n",
       "    </tr>\n",
       "  </thead>\n",
       "  <tbody>\n",
       "    <tr>\n",
       "      <th>0</th>\n",
       "      <td>Lineal</td>\n",
       "      <td>10.0000</td>\n",
       "      <td>NaN</td>\n",
       "      <td>0.8655</td>\n",
       "    </tr>\n",
       "    <tr>\n",
       "      <th>1</th>\n",
       "      <td>Poly (grado 1)</td>\n",
       "      <td>1.4384</td>\n",
       "      <td>10.0000</td>\n",
       "      <td>0.8739</td>\n",
       "    </tr>\n",
       "    <tr>\n",
       "      <th>2</th>\n",
       "      <td>Poly (grado 2)</td>\n",
       "      <td>10.0000</td>\n",
       "      <td>10.0000</td>\n",
       "      <td>0.9244</td>\n",
       "    </tr>\n",
       "    <tr>\n",
       "      <th>3</th>\n",
       "      <td>Poly (grado 3)</td>\n",
       "      <td>6.1585</td>\n",
       "      <td>10.0000</td>\n",
       "      <td>0.9160</td>\n",
       "    </tr>\n",
       "    <tr>\n",
       "      <th>4</th>\n",
       "      <td>Poly (grado 4)</td>\n",
       "      <td>6.1585</td>\n",
       "      <td>10.0000</td>\n",
       "      <td>0.8992</td>\n",
       "    </tr>\n",
       "    <tr>\n",
       "      <th>5</th>\n",
       "      <td>RBF</td>\n",
       "      <td>10.0000</td>\n",
       "      <td>10.0000</td>\n",
       "      <td>0.9244</td>\n",
       "    </tr>\n",
       "    <tr>\n",
       "      <th>6</th>\n",
       "      <td>Sigmoid</td>\n",
       "      <td>2.3357</td>\n",
       "      <td>6.1585</td>\n",
       "      <td>0.8739</td>\n",
       "    </tr>\n",
       "  </tbody>\n",
       "</table>\n",
       "</div>"
      ],
      "text/latex": [
       "\\begin{tabular}{llrrr}\n",
       "\\toprule\n",
       "{} &          kernel &        C &    gamma &  scoring \\\\\n",
       "\\midrule\n",
       "0 &          Lineal &  10.0000 &      NaN &   0.8655 \\\\\n",
       "1 &  Poly (grado 1) &   1.4384 &  10.0000 &   0.8739 \\\\\n",
       "2 &  Poly (grado 2) &  10.0000 &  10.0000 &   0.9244 \\\\\n",
       "3 &  Poly (grado 3) &   6.1585 &  10.0000 &   0.9160 \\\\\n",
       "4 &  Poly (grado 4) &   6.1585 &  10.0000 &   0.8992 \\\\\n",
       "5 &             RBF &  10.0000 &  10.0000 &   0.9244 \\\\\n",
       "6 &         Sigmoid &   2.3357 &   6.1585 &   0.8739 \\\\\n",
       "\\bottomrule\n",
       "\\end{tabular}\n"
      ],
      "text/plain": [
       "           kernel        C    gamma  scoring\n",
       "0          Lineal  10.0000      NaN   0.8655\n",
       "1  Poly (grado 1)   1.4384  10.0000   0.8739\n",
       "2  Poly (grado 2)  10.0000  10.0000   0.9244\n",
       "3  Poly (grado 3)   6.1585  10.0000   0.9160\n",
       "4  Poly (grado 4)   6.1585  10.0000   0.8992\n",
       "5             RBF  10.0000  10.0000   0.9244\n",
       "6         Sigmoid   2.3357   6.1585   0.8739"
      ]
     },
     "execution_count": 94,
     "metadata": {},
     "output_type": "execute_result"
    }
   ],
   "source": [
    "result = try_different_models('c')\n",
    "pd.DataFrame(data=result,columns=['kernel','C','gamma','scoring']).round(4)"
   ]
  },
  {
   "cell_type": "markdown",
   "metadata": {},
   "source": [
    "\n",
    "*Fugura: resultados de probar distintios modelos en el conjunto c*\n",
    "\n",
    "\n",
    "La mejor puntuación la obtiene el núcleo rbf y el polinómico de grado 2. Sin embargo, utilizan valores de C más altos que el sigmoid. Entiendo que la mejor opción sería el polinómico de grado 1, que no compremete el sobreajuste en realión al rendimiento.\n",
    "\n",
    "## Conjunto p"
   ]
  },
  {
   "cell_type": "code",
   "execution_count": 95,
   "metadata": {
    "collapsed": false
   },
   "outputs": [
    {
     "name": "stdout",
     "output_type": "stream",
     "text": [
      "Top 3 classes: ['46', '20', '110']\n"
     ]
    },
    {
     "data": {
      "text/html": [
       "<div>\n",
       "<table border=\"1\" class=\"dataframe\">\n",
       "  <thead>\n",
       "    <tr style=\"text-align: right;\">\n",
       "      <th></th>\n",
       "      <th>kernel</th>\n",
       "      <th>C</th>\n",
       "      <th>gamma</th>\n",
       "      <th>scoring</th>\n",
       "    </tr>\n",
       "  </thead>\n",
       "  <tbody>\n",
       "    <tr>\n",
       "      <th>0</th>\n",
       "      <td>Lineal</td>\n",
       "      <td>10.0000</td>\n",
       "      <td>NaN</td>\n",
       "      <td>0.7983</td>\n",
       "    </tr>\n",
       "    <tr>\n",
       "      <th>1</th>\n",
       "      <td>Poly (grado 1)</td>\n",
       "      <td>6.1585</td>\n",
       "      <td>10.0</td>\n",
       "      <td>0.8571</td>\n",
       "    </tr>\n",
       "    <tr>\n",
       "      <th>2</th>\n",
       "      <td>Poly (grado 2)</td>\n",
       "      <td>3.7927</td>\n",
       "      <td>10.0</td>\n",
       "      <td>0.8571</td>\n",
       "    </tr>\n",
       "    <tr>\n",
       "      <th>3</th>\n",
       "      <td>Poly (grado 3)</td>\n",
       "      <td>3.7927</td>\n",
       "      <td>10.0</td>\n",
       "      <td>0.8487</td>\n",
       "    </tr>\n",
       "    <tr>\n",
       "      <th>4</th>\n",
       "      <td>Poly (grado 4)</td>\n",
       "      <td>3.7927</td>\n",
       "      <td>10.0</td>\n",
       "      <td>0.8487</td>\n",
       "    </tr>\n",
       "    <tr>\n",
       "      <th>5</th>\n",
       "      <td>RBF</td>\n",
       "      <td>6.1585</td>\n",
       "      <td>10.0</td>\n",
       "      <td>0.8487</td>\n",
       "    </tr>\n",
       "    <tr>\n",
       "      <th>6</th>\n",
       "      <td>Sigmoid</td>\n",
       "      <td>10.0000</td>\n",
       "      <td>10.0</td>\n",
       "      <td>0.8908</td>\n",
       "    </tr>\n",
       "  </tbody>\n",
       "</table>\n",
       "</div>"
      ],
      "text/latex": [
       "\\begin{tabular}{llrrr}\n",
       "\\toprule\n",
       "{} &          kernel &        C &  gamma &  scoring \\\\\n",
       "\\midrule\n",
       "0 &          Lineal &  10.0000 &    NaN &   0.7983 \\\\\n",
       "1 &  Poly (grado 1) &   6.1585 &   10.0 &   0.8571 \\\\\n",
       "2 &  Poly (grado 2) &   3.7927 &   10.0 &   0.8571 \\\\\n",
       "3 &  Poly (grado 3) &   3.7927 &   10.0 &   0.8487 \\\\\n",
       "4 &  Poly (grado 4) &   3.7927 &   10.0 &   0.8487 \\\\\n",
       "5 &             RBF &   6.1585 &   10.0 &   0.8487 \\\\\n",
       "6 &         Sigmoid &  10.0000 &   10.0 &   0.8908 \\\\\n",
       "\\bottomrule\n",
       "\\end{tabular}\n"
      ],
      "text/plain": [
       "           kernel        C  gamma  scoring\n",
       "0          Lineal  10.0000    NaN   0.7983\n",
       "1  Poly (grado 1)   6.1585   10.0   0.8571\n",
       "2  Poly (grado 2)   3.7927   10.0   0.8571\n",
       "3  Poly (grado 3)   3.7927   10.0   0.8487\n",
       "4  Poly (grado 4)   3.7927   10.0   0.8487\n",
       "5             RBF   6.1585   10.0   0.8487\n",
       "6         Sigmoid  10.0000   10.0   0.8908"
      ]
     },
     "execution_count": 95,
     "metadata": {},
     "output_type": "execute_result"
    }
   ],
   "source": [
    "result = try_different_models('p')\n",
    "pd.DataFrame(data=result,columns=['kernel','C','gamma','scoring']).round(4)"
   ]
  },
  {
   "cell_type": "markdown",
   "metadata": {},
   "source": [
    "\n",
    "*Fugura: resultados de probar distintios modelos en el conjunto p*\n",
    "\n",
    "Entiendo que una buena opción en este caso podría ser el núcleo polinómico de grado 2, puesto que ofrece buen resultado con penalización de error baja.\n",
    "\n",
    "## Conjunto v"
   ]
  },
  {
   "cell_type": "code",
   "execution_count": 97,
   "metadata": {
    "collapsed": false
   },
   "outputs": [
    {
     "name": "stdout",
     "output_type": "stream",
     "text": [
      "Top 3 classes: ['46', '20', '110']\n"
     ]
    },
    {
     "data": {
      "text/html": [
       "<div>\n",
       "<table border=\"1\" class=\"dataframe\">\n",
       "  <thead>\n",
       "    <tr style=\"text-align: right;\">\n",
       "      <th></th>\n",
       "      <th>kernel</th>\n",
       "      <th>C</th>\n",
       "      <th>gamma</th>\n",
       "      <th>scoring</th>\n",
       "    </tr>\n",
       "  </thead>\n",
       "  <tbody>\n",
       "    <tr>\n",
       "      <th>0</th>\n",
       "      <td>Lineal</td>\n",
       "      <td>10.0000</td>\n",
       "      <td>NaN</td>\n",
       "      <td>0.7227</td>\n",
       "    </tr>\n",
       "    <tr>\n",
       "      <th>1</th>\n",
       "      <td>Poly (grado 1)</td>\n",
       "      <td>6.1585</td>\n",
       "      <td>10.0</td>\n",
       "      <td>0.8571</td>\n",
       "    </tr>\n",
       "    <tr>\n",
       "      <th>2</th>\n",
       "      <td>Poly (grado 2)</td>\n",
       "      <td>6.1585</td>\n",
       "      <td>10.0</td>\n",
       "      <td>0.8655</td>\n",
       "    </tr>\n",
       "    <tr>\n",
       "      <th>3</th>\n",
       "      <td>Poly (grado 3)</td>\n",
       "      <td>6.1585</td>\n",
       "      <td>10.0</td>\n",
       "      <td>0.8908</td>\n",
       "    </tr>\n",
       "    <tr>\n",
       "      <th>4</th>\n",
       "      <td>Poly (grado 4)</td>\n",
       "      <td>10.0000</td>\n",
       "      <td>10.0</td>\n",
       "      <td>0.8739</td>\n",
       "    </tr>\n",
       "    <tr>\n",
       "      <th>5</th>\n",
       "      <td>RBF</td>\n",
       "      <td>10.0000</td>\n",
       "      <td>10.0</td>\n",
       "      <td>0.8992</td>\n",
       "    </tr>\n",
       "    <tr>\n",
       "      <th>6</th>\n",
       "      <td>Sigmoid</td>\n",
       "      <td>10.0000</td>\n",
       "      <td>10.0</td>\n",
       "      <td>0.8487</td>\n",
       "    </tr>\n",
       "  </tbody>\n",
       "</table>\n",
       "</div>"
      ],
      "text/latex": [
       "\\begin{tabular}{llrrr}\n",
       "\\toprule\n",
       "{} &          kernel &        C &  gamma &  scoring \\\\\n",
       "\\midrule\n",
       "0 &          Lineal &  10.0000 &    NaN &   0.7227 \\\\\n",
       "1 &  Poly (grado 1) &   6.1585 &   10.0 &   0.8571 \\\\\n",
       "2 &  Poly (grado 2) &   6.1585 &   10.0 &   0.8655 \\\\\n",
       "3 &  Poly (grado 3) &   6.1585 &   10.0 &   0.8908 \\\\\n",
       "4 &  Poly (grado 4) &  10.0000 &   10.0 &   0.8739 \\\\\n",
       "5 &             RBF &  10.0000 &   10.0 &   0.8992 \\\\\n",
       "6 &         Sigmoid &  10.0000 &   10.0 &   0.8487 \\\\\n",
       "\\bottomrule\n",
       "\\end{tabular}\n"
      ],
      "text/plain": [
       "           kernel        C  gamma  scoring\n",
       "0          Lineal  10.0000    NaN   0.7227\n",
       "1  Poly (grado 1)   6.1585   10.0   0.8571\n",
       "2  Poly (grado 2)   6.1585   10.0   0.8655\n",
       "3  Poly (grado 3)   6.1585   10.0   0.8908\n",
       "4  Poly (grado 4)  10.0000   10.0   0.8739\n",
       "5             RBF  10.0000   10.0   0.8992\n",
       "6         Sigmoid  10.0000   10.0   0.8487"
      ]
     },
     "execution_count": 97,
     "metadata": {},
     "output_type": "execute_result"
    }
   ],
   "source": [
    "result = try_different_models('v')\n",
    "pd.DataFrame(data=result,columns=['kernel','C','gamma','scoring']).round(4)"
   ]
  },
  {
   "cell_type": "markdown",
   "metadata": {},
   "source": [
    "\n",
    "*Fugura: resultados de probar distintios modelos en el conjunto v*\n",
    "\n",
    "\n",
    "## Conjunto h"
   ]
  },
  {
   "cell_type": "code",
   "execution_count": 98,
   "metadata": {
    "collapsed": false
   },
   "outputs": [
    {
     "name": "stdout",
     "output_type": "stream",
     "text": [
      "Top 3 classes: ['46', '20', '110']\n"
     ]
    },
    {
     "data": {
      "text/html": [
       "<div>\n",
       "<table border=\"1\" class=\"dataframe\">\n",
       "  <thead>\n",
       "    <tr style=\"text-align: right;\">\n",
       "      <th></th>\n",
       "      <th>kernel</th>\n",
       "      <th>C</th>\n",
       "      <th>gamma</th>\n",
       "      <th>scoring</th>\n",
       "    </tr>\n",
       "  </thead>\n",
       "  <tbody>\n",
       "    <tr>\n",
       "      <th>0</th>\n",
       "      <td>Lineal</td>\n",
       "      <td>10.0000</td>\n",
       "      <td>NaN</td>\n",
       "      <td>0.6975</td>\n",
       "    </tr>\n",
       "    <tr>\n",
       "      <th>1</th>\n",
       "      <td>Poly (grado 1)</td>\n",
       "      <td>10.0000</td>\n",
       "      <td>10.0</td>\n",
       "      <td>0.8739</td>\n",
       "    </tr>\n",
       "    <tr>\n",
       "      <th>2</th>\n",
       "      <td>Poly (grado 2)</td>\n",
       "      <td>6.1585</td>\n",
       "      <td>10.0</td>\n",
       "      <td>0.8739</td>\n",
       "    </tr>\n",
       "    <tr>\n",
       "      <th>3</th>\n",
       "      <td>Poly (grado 3)</td>\n",
       "      <td>3.7927</td>\n",
       "      <td>10.0</td>\n",
       "      <td>0.8739</td>\n",
       "    </tr>\n",
       "    <tr>\n",
       "      <th>4</th>\n",
       "      <td>Poly (grado 4)</td>\n",
       "      <td>2.3357</td>\n",
       "      <td>10.0</td>\n",
       "      <td>0.8655</td>\n",
       "    </tr>\n",
       "    <tr>\n",
       "      <th>5</th>\n",
       "      <td>RBF</td>\n",
       "      <td>6.1585</td>\n",
       "      <td>10.0</td>\n",
       "      <td>0.8824</td>\n",
       "    </tr>\n",
       "    <tr>\n",
       "      <th>6</th>\n",
       "      <td>Sigmoid</td>\n",
       "      <td>10.0000</td>\n",
       "      <td>10.0</td>\n",
       "      <td>0.8655</td>\n",
       "    </tr>\n",
       "  </tbody>\n",
       "</table>\n",
       "</div>"
      ],
      "text/latex": [
       "\\begin{tabular}{llrrr}\n",
       "\\toprule\n",
       "{} &          kernel &        C &  gamma &  scoring \\\\\n",
       "\\midrule\n",
       "0 &          Lineal &  10.0000 &    NaN &   0.6975 \\\\\n",
       "1 &  Poly (grado 1) &  10.0000 &   10.0 &   0.8739 \\\\\n",
       "2 &  Poly (grado 2) &   6.1585 &   10.0 &   0.8739 \\\\\n",
       "3 &  Poly (grado 3) &   3.7927 &   10.0 &   0.8739 \\\\\n",
       "4 &  Poly (grado 4) &   2.3357 &   10.0 &   0.8655 \\\\\n",
       "5 &             RBF &   6.1585 &   10.0 &   0.8824 \\\\\n",
       "6 &         Sigmoid &  10.0000 &   10.0 &   0.8655 \\\\\n",
       "\\bottomrule\n",
       "\\end{tabular}\n"
      ],
      "text/plain": [
       "           kernel        C  gamma  scoring\n",
       "0          Lineal  10.0000    NaN   0.6975\n",
       "1  Poly (grado 1)  10.0000   10.0   0.8739\n",
       "2  Poly (grado 2)   6.1585   10.0   0.8739\n",
       "3  Poly (grado 3)   3.7927   10.0   0.8739\n",
       "4  Poly (grado 4)   2.3357   10.0   0.8655\n",
       "5             RBF   6.1585   10.0   0.8824\n",
       "6         Sigmoid  10.0000   10.0   0.8655"
      ]
     },
     "execution_count": 98,
     "metadata": {},
     "output_type": "execute_result"
    }
   ],
   "source": [
    "result = try_different_models('h')\n",
    "pd.DataFrame(data=result,columns=['kernel','C','gamma','scoring']).round(4)"
   ]
  },
  {
   "cell_type": "markdown",
   "metadata": {},
   "source": [
    "\n",
    "*Fugura: resultados de probar distintios modelos en el conjunto h*\n",
    "\n",
    "Entiendo que una buena opción en este caso podría ser el núcleo polinómico de grado 4 o el RBF, puesto que ofrecen buen resultado con penalización de error baja.\n",
    "\n",
    "## Conjunto z"
   ]
  },
  {
   "cell_type": "code",
   "execution_count": 99,
   "metadata": {
    "collapsed": false
   },
   "outputs": [
    {
     "name": "stdout",
     "output_type": "stream",
     "text": [
      "Top 3 classes: ['46', '20', '110']\n"
     ]
    },
    {
     "data": {
      "text/html": [
       "<div>\n",
       "<table border=\"1\" class=\"dataframe\">\n",
       "  <thead>\n",
       "    <tr style=\"text-align: right;\">\n",
       "      <th></th>\n",
       "      <th>kernel</th>\n",
       "      <th>C</th>\n",
       "      <th>gamma</th>\n",
       "      <th>scoring</th>\n",
       "    </tr>\n",
       "  </thead>\n",
       "  <tbody>\n",
       "    <tr>\n",
       "      <th>0</th>\n",
       "      <td>Lineal</td>\n",
       "      <td>10.0000</td>\n",
       "      <td>NaN</td>\n",
       "      <td>0.6975</td>\n",
       "    </tr>\n",
       "    <tr>\n",
       "      <th>1</th>\n",
       "      <td>Poly (grado 1)</td>\n",
       "      <td>10.0000</td>\n",
       "      <td>10.0</td>\n",
       "      <td>0.8908</td>\n",
       "    </tr>\n",
       "    <tr>\n",
       "      <th>2</th>\n",
       "      <td>Poly (grado 2)</td>\n",
       "      <td>6.1585</td>\n",
       "      <td>10.0</td>\n",
       "      <td>0.8908</td>\n",
       "    </tr>\n",
       "    <tr>\n",
       "      <th>3</th>\n",
       "      <td>Poly (grado 3)</td>\n",
       "      <td>6.1585</td>\n",
       "      <td>10.0</td>\n",
       "      <td>0.8992</td>\n",
       "    </tr>\n",
       "    <tr>\n",
       "      <th>4</th>\n",
       "      <td>Poly (grado 4)</td>\n",
       "      <td>3.7927</td>\n",
       "      <td>10.0</td>\n",
       "      <td>0.8992</td>\n",
       "    </tr>\n",
       "    <tr>\n",
       "      <th>5</th>\n",
       "      <td>RBF</td>\n",
       "      <td>6.1585</td>\n",
       "      <td>10.0</td>\n",
       "      <td>0.8908</td>\n",
       "    </tr>\n",
       "    <tr>\n",
       "      <th>6</th>\n",
       "      <td>Sigmoid</td>\n",
       "      <td>10.0000</td>\n",
       "      <td>10.0</td>\n",
       "      <td>0.8824</td>\n",
       "    </tr>\n",
       "  </tbody>\n",
       "</table>\n",
       "</div>"
      ],
      "text/latex": [
       "\\begin{tabular}{llrrr}\n",
       "\\toprule\n",
       "{} &          kernel &        C &  gamma &  scoring \\\\\n",
       "\\midrule\n",
       "0 &          Lineal &  10.0000 &    NaN &   0.6975 \\\\\n",
       "1 &  Poly (grado 1) &  10.0000 &   10.0 &   0.8908 \\\\\n",
       "2 &  Poly (grado 2) &   6.1585 &   10.0 &   0.8908 \\\\\n",
       "3 &  Poly (grado 3) &   6.1585 &   10.0 &   0.8992 \\\\\n",
       "4 &  Poly (grado 4) &   3.7927 &   10.0 &   0.8992 \\\\\n",
       "5 &             RBF &   6.1585 &   10.0 &   0.8908 \\\\\n",
       "6 &         Sigmoid &  10.0000 &   10.0 &   0.8824 \\\\\n",
       "\\bottomrule\n",
       "\\end{tabular}\n"
      ],
      "text/plain": [
       "           kernel        C  gamma  scoring\n",
       "0          Lineal  10.0000    NaN   0.6975\n",
       "1  Poly (grado 1)  10.0000   10.0   0.8908\n",
       "2  Poly (grado 2)   6.1585   10.0   0.8908\n",
       "3  Poly (grado 3)   6.1585   10.0   0.8992\n",
       "4  Poly (grado 4)   3.7927   10.0   0.8992\n",
       "5             RBF   6.1585   10.0   0.8908\n",
       "6         Sigmoid  10.0000   10.0   0.8824"
      ]
     },
     "execution_count": 99,
     "metadata": {},
     "output_type": "execute_result"
    }
   ],
   "source": [
    "result = try_different_models('z')\n",
    "pd.DataFrame(data=result,columns=['kernel','C','gamma','scoring']).round(4)"
   ]
  },
  {
   "cell_type": "markdown",
   "metadata": {},
   "source": [
    "\n",
    "*Fugura: resultados de probar distintios modelos en el conjunto z*\n",
    "\n",
    "Entiendo que una buena opción en este caso podría ser el núcleo polinómico de grado 4, puesto que ofrece buen resultado con penalización de error baja.\n",
    "\n",
    "## Análisis de resultados en los conjuntos c, p, v, h y z\n",
    "\n",
    "En ninguno de estos conjuntos el nucleo lineal ofrece resultados mejores que los otros núcleos, y siempre se encuentra con valores de C altos (10, el valor más alto considero en el experimento). Por eso me inclino a pensar que ninguno de estos conjuntos debe de ser linealmente separable.\n",
    "\n",
    "En la sección anterior, para cada conjunto de datos, se han análizado los núcleos que podrían considerarse más convenientes."
   ]
  },
  {
   "cell_type": "markdown",
   "metadata": {},
   "source": [
    "# Referencias\n",
    "\n",
    "[1] Corinna Cortes and Vladimir Vapnik. Support-vector networks. *Machine\n",
    "learning, 20(3):273–297, 1995.*\n",
    "\n",
    "[2] José Hernández Orallo and Mª José Ramírez Quintana. *Introducción a la\n",
    "Minería de Datos.*\n",
    "\n",
    "[3] Qiang Wu and Ding-Xuan Zhou. Svm soft margin classifiers: linear programming\n",
    "versus quadratic programming. *Neural computation, 17(5):1160–1187,\n",
    "2005.*\n",
    "\n",
    "[4] Chih-Wei Hsu, Chih-Chung Chang, and Chih-Jen Lin. *A Practical Guide to Support Vector Classification*"
   ]
  }
 ],
 "metadata": {
  "anaconda-cloud": {},
  "kernelspec": {
   "display_name": "Python [default]",
   "language": "python",
   "name": "python2"
  },
  "language_info": {
   "codemirror_mode": {
    "name": "ipython",
    "version": 2
   },
   "file_extension": ".py",
   "mimetype": "text/x-python",
   "name": "python",
   "nbconvert_exporter": "python",
   "pygments_lexer": "ipython2",
   "version": "2.7.13"
  },
  "toc": {
   "colors": {
    "hover_highlight": "#DAA520",
    "running_highlight": "#FF0000",
    "selected_highlight": "#FFD700"
   },
   "moveMenuLeft": true,
   "navigate_menu": false,
   "number_sections": true,
   "sideBar": false,
   "threshold": 4,
   "toc_cell": true,
   "toc_section_display": "block",
   "toc_window_display": false,
   "widenNotebook": false
  }
 },
 "nbformat": 4,
 "nbformat_minor": 2
}
